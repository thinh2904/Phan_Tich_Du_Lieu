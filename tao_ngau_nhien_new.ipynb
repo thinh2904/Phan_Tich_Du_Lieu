{
  "nbformat": 4,
  "nbformat_minor": 0,
  "metadata": {
    "kernelspec": {
      "display_name": "Python 3",
      "language": "python",
      "name": "python3"
    },
    "language_info": {
      "codemirror_mode": {
        "name": "ipython",
        "version": 3
      },
      "file_extension": ".py",
      "mimetype": "text/x-python",
      "name": "python",
      "nbconvert_exporter": "python",
      "pygments_lexer": "ipython3",
      "version": "3.7.3"
    },
    "colab": {
      "name": "tao_ngau_nhien_new.ipynb",
      "provenance": []
    }
  },
  "cells": [
    {
      "cell_type": "code",
      "metadata": {
        "id": "1hiZZxqlcCoj"
      },
      "source": [
        "import numpy as np"
      ],
      "execution_count": 1,
      "outputs": []
    },
    {
      "cell_type": "markdown",
      "metadata": {
        "id": "RJZeN7PFcBFc"
      },
      "source": [
        "Sử dụng thư viện Numpy\n",
        "\n",
        "1. Sinh mẫu ngẫu nhiên bằng hàm arange trong khoảng [-15, 27] với khoảng cách là 0.7 và in kết quả ra màn hình"
      ]
    },
    {
      "cell_type": "code",
      "metadata": {
        "id": "quDraLdtcBFg",
        "colab": {
          "base_uri": "https://localhost:8080/"
        },
        "outputId": "2575bf12-f451-48a0-ce13-6f940a79e6d4"
      },
      "source": [
        "sample_1 = np.arange(-15, 27, 0.7)\n",
        "print(sample_1)"
      ],
      "execution_count": 2,
      "outputs": [
        {
          "output_type": "stream",
          "text": [
            "[-15.  -14.3 -13.6 -12.9 -12.2 -11.5 -10.8 -10.1  -9.4  -8.7  -8.   -7.3\n",
            "  -6.6  -5.9  -5.2  -4.5  -3.8  -3.1  -2.4  -1.7  -1.   -0.3   0.4   1.1\n",
            "   1.8   2.5   3.2   3.9   4.6   5.3   6.    6.7   7.4   8.1   8.8   9.5\n",
            "  10.2  10.9  11.6  12.3  13.   13.7  14.4  15.1  15.8  16.5  17.2  17.9\n",
            "  18.6  19.3  20.   20.7  21.4  22.1  22.8  23.5  24.2  24.9  25.6  26.3\n",
            "  27. ]\n"
          ],
          "name": "stdout"
        }
      ]
    },
    {
      "cell_type": "markdown",
      "metadata": {
        "id": "0-TMFv-vcBFh"
      },
      "source": [
        "2. Sinh mẫu ngẫu nhiên theo phân phối chuẩn với mean = 2.7 std = 1.2 và size = 40\n",
        "In kết quả ra màn hình"
      ]
    },
    {
      "cell_type": "code",
      "metadata": {
        "id": "J_9fsjRecBFh",
        "colab": {
          "base_uri": "https://localhost:8080/"
        },
        "outputId": "c9178d8f-a6c2-43f5-a880-819602de29c6"
      },
      "source": [
        "sample_2 = np.random.normal(loc = 2.7, scale = 1.2, size = 40)\n",
        "print(sample_2)"
      ],
      "execution_count": 3,
      "outputs": [
        {
          "output_type": "stream",
          "text": [
            "[2.25406844 4.17299865 0.68057553 1.51936552 1.09365563 2.91131978\n",
            " 4.33273933 3.76445101 3.71587133 2.50844111 1.91990356 3.88068989\n",
            " 1.73206599 1.40924747 2.56765609 2.01832397 3.19531762 5.00127392\n",
            " 3.12786151 3.21480744 3.44520391 0.94428502 0.30887091 3.08669342\n",
            " 1.88019764 2.58373842 1.88872868 3.40797926 1.24488626 1.83144409\n",
            " 2.5872126  2.61896479 2.81689641 2.61671242 4.26153298 3.39045777\n",
            " 3.15638815 1.97081532 2.49858698 1.8514091 ]\n"
          ],
          "name": "stdout"
        }
      ]
    },
    {
      "cell_type": "markdown",
      "metadata": {
        "id": "giBXNiWOcBFi"
      },
      "source": [
        "3. Sinh mẫu ngẫu nhiên từ vector ['Viet Nam', 'Britain', 'France', 'Russia', 'Singapore'] \n",
        "\n",
        "với kích thước là 17 theo phân phối chuẩn"
      ]
    },
    {
      "cell_type": "code",
      "metadata": {
        "id": "8guTKVnscBFi",
        "colab": {
          "base_uri": "https://localhost:8080/"
        },
        "outputId": "0cc1e5f2-47fb-46af-ce27-3d6c179f968f"
      },
      "source": [
        "sample_3 = np.random.choice(['Viet Nam', 'Britain', 'France', 'Russia', 'Singapore'], 17)\n",
        "print(sample_3)"
      ],
      "execution_count": 5,
      "outputs": [
        {
          "output_type": "stream",
          "text": [
            "['Britain' 'Russia' 'Britain' 'Russia' 'France' 'Viet Nam' 'Britain'\n",
            " 'Russia' 'Britain' 'Viet Nam' 'Singapore' 'Russia' 'Singapore' 'Viet Nam'\n",
            " 'France' 'Britain' 'Viet Nam']\n"
          ],
          "name": "stdout"
        }
      ]
    },
    {
      "cell_type": "markdown",
      "metadata": {
        "id": "J_VJ3mCCcBFi"
      },
      "source": [
        "4. Sinh mẫu ngẫu nhiên ở câu 3 nhưng không theo phân phối chuẩn mà theo 1 vector đặc tả giá trị xác suất do bạn chọn"
      ]
    },
    {
      "cell_type": "code",
      "metadata": {
        "id": "11dBJTWscBFi",
        "colab": {
          "base_uri": "https://localhost:8080/"
        },
        "outputId": "cd59dbf1-3302-442d-8063-098ba433b4c6"
      },
      "source": [
        "p = [0.1, 0.2, 0.3, 0.2, 0.1]\n",
        "sample_4 = np.random.choice(['Viet Nam', 'Britain', 'France', 'Russia', 'Singapore'], 17, p)\n",
        "print(sample_4)"
      ],
      "execution_count": 7,
      "outputs": [
        {
          "output_type": "stream",
          "text": [
            "['Russia' 'Britain' 'Singapore' 'Britain' 'Viet Nam' 'Britain' 'Britain'\n",
            " 'France' 'Britain' 'France' 'Viet Nam' 'Britain' 'France' 'Singapore'\n",
            " 'France' 'Russia' 'Singapore']\n"
          ],
          "name": "stdout"
        }
      ]
    },
    {
      "cell_type": "markdown",
      "metadata": {
        "id": "wH8SwG6JcBFj"
      },
      "source": [
        "Sử dụng thư việc scipy.stats để sinh mẫu ngẫu nhiên\n",
        "\n",
        "1. Sinh mẫu ngẫu nhiên theo phân phối chuẩn với mean = 12.7, std = 2.6 và size = 30. In kết quả ra màn hình"
      ]
    },
    {
      "cell_type": "code",
      "metadata": {
        "id": "VJHqvSE2cBFj",
        "colab": {
          "base_uri": "https://localhost:8080/"
        },
        "outputId": "fa7da342-9074-4aa9-de0a-fd6c23d622fb"
      },
      "source": [
        "from scipy import stats\n",
        "sample_5 = stats.norm.rvs(loc = 12.7, scale = 2.6, size = 30)\n",
        "print(sample_5)"
      ],
      "execution_count": 8,
      "outputs": [
        {
          "output_type": "stream",
          "text": [
            "[11.15492683 12.1046795  10.57280286 13.38037029 11.96897347 13.7166402\n",
            " 14.40616372 20.20412517  9.16495213 10.40332171 12.21101236 15.37221635\n",
            " 14.67065763 11.39895596 15.33192381 11.65704933 16.3453021  11.02954939\n",
            " 11.93617692 11.12085603 16.06652471  9.95880948 11.9237174  12.7873352\n",
            " 11.15087915 15.46323372 15.98012528 14.0355629  17.27252679  9.33846561]\n"
          ],
          "name": "stdout"
        }
      ]
    },
    {
      "cell_type": "markdown",
      "metadata": {
        "id": "1YcRkecTcBFj"
      },
      "source": [
        "2. Hãy sinh một mẫu ngẫu nhiên theo phân phối Poisson"
      ]
    },
    {
      "cell_type": "code",
      "metadata": {
        "id": "kIdsHjMYcBFj",
        "colab": {
          "base_uri": "https://localhost:8080/"
        },
        "outputId": "946f2b25-03c3-4ada-90a6-6a433f3cc936"
      },
      "source": [
        "sample_6 = stats.poisson.rvs(loc=180,\n",
        "                              mu=3,\n",
        "                              size=30)\n",
        "print(sample_6)"
      ],
      "execution_count": 11,
      "outputs": [
        {
          "output_type": "stream",
          "text": [
            "[181 184 189 183 185 180 184 187 184 181 186 184 181 180 181 184 184 182\n",
            " 183 187 184 181 182 184 183 184 181 184 183 183]\n"
          ],
          "name": "stdout"
        }
      ]
    },
    {
      "cell_type": "code",
      "metadata": {
        "id": "G19BRZe5cBFj"
      },
      "source": [
        ""
      ],
      "execution_count": null,
      "outputs": []
    }
  ]
}