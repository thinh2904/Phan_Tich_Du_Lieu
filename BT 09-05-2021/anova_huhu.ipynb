{
  "nbformat": 4,
  "nbformat_minor": 0,
  "metadata": {
    "kernelspec": {
      "display_name": "Python 3",
      "language": "python",
      "name": "python3"
    },
    "language_info": {
      "codemirror_mode": {
        "name": "ipython",
        "version": 3
      },
      "file_extension": ".py",
      "mimetype": "text/x-python",
      "name": "python",
      "nbconvert_exporter": "python",
      "pygments_lexer": "ipython3",
      "version": "3.7.3"
    },
    "colab": {
      "name": "anova_huhu.ipynb",
      "provenance": [],
      "collapsed_sections": []
    }
  },
  "cells": [
    {
      "cell_type": "markdown",
      "metadata": {
        "id": "VTOxmq0LTAZ1"
      },
      "source": [
        "Hãy sử dụng các tập dữ liệu sau và tiến hành phân tích ANOVA 1 chiều\n",
        "\n",
        "- [Excavation Depth and Archaeology](https://college.cengage.com/mathematics/brase/understandable_statistics/7e/students/datasets/owan/frames/owan01.html)\n",
        "- [Apple Orchard Experiment](https://college.cengage.com/mathematics/brase/understandable_statistics/7e/students/datasets/owan/frames/owan02.html)\n",
        "- [Red Dye Number 40](https://college.cengage.com/mathematics/brase/understandable_statistics/7e/students/datasets/owan/frames/owan03.html)\n",
        "- [Business Startup Costs](https://college.cengage.com/mathematics/brase/understandable_statistics/7e/students/datasets/owan/frames/owan04.html)\n",
        "- [Weights of Football Players](https://college.cengage.com/mathematics/brase/understandable_statistics/7e/students/datasets/owan/frames/owan05.html)"
      ]
    },
    {
      "cell_type": "code",
      "metadata": {
        "id": "jPqSDpM1c5QH"
      },
      "source": [
        "import numpy as np\n",
        "import pandas as pd\n",
        "import scipy\n",
        "from scipy import stats\n",
        "from scipy.stats import shapiro\n",
        "from scipy.stats import bartlett"
      ],
      "execution_count": 103,
      "outputs": []
    },
    {
      "cell_type": "code",
      "metadata": {
        "id": "YeUmfIwslE3N"
      },
      "source": [
        "class ProJect_ANOVA:\n",
        "\n",
        "\n",
        "    def __init__(self, data):\n",
        "        self.data = data\n",
        "        self.samples = []\n",
        "        for i in data.columns:\n",
        "            self.samples.append(data[i].dropna())\n",
        "\n",
        "\n",
        "    def KT_phan_phoi_chuan(self):\n",
        "        for (stt, sample) in enumerate(self.samples):\n",
        "            stat, p = stats.shapiro(sample)\n",
        "            if p > 0.05:\n",
        "                print(f'Mẫu {stt+1} tuân theo phân phối chuẩn')\n",
        "            else:\n",
        "                print(f'Mẫu {stt+1} không tuân theo phân phối chuẩn')\n",
        "\n",
        "\n",
        "    def KT_phuong_sai(self):\n",
        "        stat, p = stats.bartlett(*self.samples)\n",
        "        if p > 0.05:\n",
        "            print('Phương sai bằng nhau')\n",
        "        else:\n",
        "            print('Có ít nhất một cặp Phương sai không bằng nhau')  "
      ],
      "execution_count": 104,
      "outputs": []
    },
    {
      "cell_type": "markdown",
      "metadata": {
        "id": "eQzjFSAVtX03"
      },
      "source": [
        "Excavation Depth and Archaeology"
      ]
    },
    {
      "cell_type": "code",
      "metadata": {
        "id": "pELgFBCpTAZ7",
        "colab": {
          "base_uri": "https://localhost:8080/",
          "height": 212
        },
        "outputId": "e5f46a10-f478-4e51-e1d6-d05300b87532"
      },
      "source": [
        "df_1 = pd.read_excel('owan01.xls')\n",
        "df_1.head()"
      ],
      "execution_count": 105,
      "outputs": [
        {
          "output_type": "stream",
          "text": [
            "*** No CODEPAGE record, no encoding_override: will use 'ascii'\n"
          ],
          "name": "stdout"
        },
        {
          "output_type": "execute_result",
          "data": {
            "text/html": [
              "<div>\n",
              "<style scoped>\n",
              "    .dataframe tbody tr th:only-of-type {\n",
              "        vertical-align: middle;\n",
              "    }\n",
              "\n",
              "    .dataframe tbody tr th {\n",
              "        vertical-align: top;\n",
              "    }\n",
              "\n",
              "    .dataframe thead th {\n",
              "        text-align: right;\n",
              "    }\n",
              "</style>\n",
              "<table border=\"1\" class=\"dataframe\">\n",
              "  <thead>\n",
              "    <tr style=\"text-align: right;\">\n",
              "      <th></th>\n",
              "      <th>X1</th>\n",
              "      <th>X2</th>\n",
              "      <th>X3</th>\n",
              "      <th>X4</th>\n",
              "    </tr>\n",
              "  </thead>\n",
              "  <tbody>\n",
              "    <tr>\n",
              "      <th>0</th>\n",
              "      <td>93</td>\n",
              "      <td>85.0</td>\n",
              "      <td>100.0</td>\n",
              "      <td>96.0</td>\n",
              "    </tr>\n",
              "    <tr>\n",
              "      <th>1</th>\n",
              "      <td>120</td>\n",
              "      <td>45.0</td>\n",
              "      <td>75.0</td>\n",
              "      <td>58.0</td>\n",
              "    </tr>\n",
              "    <tr>\n",
              "      <th>2</th>\n",
              "      <td>65</td>\n",
              "      <td>80.0</td>\n",
              "      <td>65.0</td>\n",
              "      <td>95.0</td>\n",
              "    </tr>\n",
              "    <tr>\n",
              "      <th>3</th>\n",
              "      <td>105</td>\n",
              "      <td>28.0</td>\n",
              "      <td>40.0</td>\n",
              "      <td>90.0</td>\n",
              "    </tr>\n",
              "    <tr>\n",
              "      <th>4</th>\n",
              "      <td>115</td>\n",
              "      <td>75.0</td>\n",
              "      <td>73.0</td>\n",
              "      <td>65.0</td>\n",
              "    </tr>\n",
              "  </tbody>\n",
              "</table>\n",
              "</div>"
            ],
            "text/plain": [
              "    X1    X2     X3    X4\n",
              "0   93  85.0  100.0  96.0\n",
              "1  120  45.0   75.0  58.0\n",
              "2   65  80.0   65.0  95.0\n",
              "3  105  28.0   40.0  90.0\n",
              "4  115  75.0   73.0  65.0"
            ]
          },
          "metadata": {
            "tags": []
          },
          "execution_count": 105
        }
      ]
    },
    {
      "cell_type": "code",
      "metadata": {
        "id": "UGjObpFNle_s"
      },
      "source": [
        "owan1 = ProJect_ANOVA(df_1)"
      ],
      "execution_count": 107,
      "outputs": []
    },
    {
      "cell_type": "code",
      "metadata": {
        "colab": {
          "base_uri": "https://localhost:8080/"
        },
        "id": "l-Lluu3ttu00",
        "outputId": "89202e9b-be48-4009-d5bb-df672ec2d571"
      },
      "source": [
        "owan1.KT_phan_phoi_chuan()\n",
        "owan1.KT_phuong_sai()"
      ],
      "execution_count": 109,
      "outputs": [
        {
          "output_type": "stream",
          "text": [
            "Mẫu 1 tuân theo phân phối chuẩn\n",
            "Mẫu 2 tuân theo phân phối chuẩn\n",
            "Mẫu 3 tuân theo phân phối chuẩn\n",
            "Mẫu 4 tuân theo phân phối chuẩn\n",
            "Phương sai bằng nhau\n"
          ],
          "name": "stdout"
        }
      ]
    },
    {
      "cell_type": "markdown",
      "metadata": {
        "id": "CyM1yAaDt44h"
      },
      "source": [
        "Apple Orchard Experiment"
      ]
    },
    {
      "cell_type": "code",
      "metadata": {
        "colab": {
          "base_uri": "https://localhost:8080/",
          "height": 212
        },
        "id": "RuM-5wNFt7bt",
        "outputId": "58edb9db-3f3c-499b-862d-b1bdcba2e5ad"
      },
      "source": [
        "df_2 = pd.read_excel('owan02.xls')\n",
        "df_2.head()"
      ],
      "execution_count": 111,
      "outputs": [
        {
          "output_type": "stream",
          "text": [
            "*** No CODEPAGE record, no encoding_override: will use 'ascii'\n"
          ],
          "name": "stdout"
        },
        {
          "output_type": "execute_result",
          "data": {
            "text/html": [
              "<div>\n",
              "<style scoped>\n",
              "    .dataframe tbody tr th:only-of-type {\n",
              "        vertical-align: middle;\n",
              "    }\n",
              "\n",
              "    .dataframe tbody tr th {\n",
              "        vertical-align: top;\n",
              "    }\n",
              "\n",
              "    .dataframe thead th {\n",
              "        text-align: right;\n",
              "    }\n",
              "</style>\n",
              "<table border=\"1\" class=\"dataframe\">\n",
              "  <thead>\n",
              "    <tr style=\"text-align: right;\">\n",
              "      <th></th>\n",
              "      <th>X1</th>\n",
              "      <th>X2</th>\n",
              "      <th>X3</th>\n",
              "      <th>X4</th>\n",
              "      <th>X5</th>\n",
              "    </tr>\n",
              "  </thead>\n",
              "  <tbody>\n",
              "    <tr>\n",
              "      <th>0</th>\n",
              "      <td>2569</td>\n",
              "      <td>2074</td>\n",
              "      <td>2505</td>\n",
              "      <td>2838</td>\n",
              "      <td>1532</td>\n",
              "    </tr>\n",
              "    <tr>\n",
              "      <th>1</th>\n",
              "      <td>2928</td>\n",
              "      <td>2885</td>\n",
              "      <td>2315</td>\n",
              "      <td>2351</td>\n",
              "      <td>2552</td>\n",
              "    </tr>\n",
              "    <tr>\n",
              "      <th>2</th>\n",
              "      <td>2865</td>\n",
              "      <td>3378</td>\n",
              "      <td>2667</td>\n",
              "      <td>3001</td>\n",
              "      <td>3083</td>\n",
              "    </tr>\n",
              "    <tr>\n",
              "      <th>3</th>\n",
              "      <td>3844</td>\n",
              "      <td>3906</td>\n",
              "      <td>2390</td>\n",
              "      <td>2439</td>\n",
              "      <td>2330</td>\n",
              "    </tr>\n",
              "    <tr>\n",
              "      <th>4</th>\n",
              "      <td>3027</td>\n",
              "      <td>2782</td>\n",
              "      <td>3021</td>\n",
              "      <td>2199</td>\n",
              "      <td>2079</td>\n",
              "    </tr>\n",
              "  </tbody>\n",
              "</table>\n",
              "</div>"
            ],
            "text/plain": [
              "     X1    X2    X3    X4    X5\n",
              "0  2569  2074  2505  2838  1532\n",
              "1  2928  2885  2315  2351  2552\n",
              "2  2865  3378  2667  3001  3083\n",
              "3  3844  3906  2390  2439  2330\n",
              "4  3027  2782  3021  2199  2079"
            ]
          },
          "metadata": {
            "tags": []
          },
          "execution_count": 111
        }
      ]
    },
    {
      "cell_type": "code",
      "metadata": {
        "id": "m6RW3PApuOft"
      },
      "source": [
        "owan2 = ProJect_ANOVA(df_2)"
      ],
      "execution_count": 112,
      "outputs": []
    },
    {
      "cell_type": "code",
      "metadata": {
        "colab": {
          "base_uri": "https://localhost:8080/"
        },
        "id": "CWiaUWS-uTCx",
        "outputId": "b3075cbe-e88b-4f9c-e9f6-eb8105f0c27d"
      },
      "source": [
        "owan2.KT_phan_phoi_chuan()\n",
        "owan2.KT_phuong_sai()"
      ],
      "execution_count": 113,
      "outputs": [
        {
          "output_type": "stream",
          "text": [
            "Mẫu 1 tuân theo phân phối chuẩn\n",
            "Mẫu 2 tuân theo phân phối chuẩn\n",
            "Mẫu 3 tuân theo phân phối chuẩn\n",
            "Mẫu 4 tuân theo phân phối chuẩn\n",
            "Mẫu 5 tuân theo phân phối chuẩn\n",
            "Phương sai bằng nhau\n"
          ],
          "name": "stdout"
        }
      ]
    },
    {
      "cell_type": "markdown",
      "metadata": {
        "id": "C9_DMU37uaXJ"
      },
      "source": [
        "Red Dye Number 40"
      ]
    },
    {
      "cell_type": "code",
      "metadata": {
        "colab": {
          "base_uri": "https://localhost:8080/",
          "height": 212
        },
        "id": "_C3Zq-zjucxw",
        "outputId": "b2e96b67-7e90-4e30-8c82-206b24c2f8df"
      },
      "source": [
        "df_3 = pd.read_excel('owan03.xls')\n",
        "df_3.head()"
      ],
      "execution_count": 114,
      "outputs": [
        {
          "output_type": "stream",
          "text": [
            "*** No CODEPAGE record, no encoding_override: will use 'ascii'\n"
          ],
          "name": "stdout"
        },
        {
          "output_type": "execute_result",
          "data": {
            "text/html": [
              "<div>\n",
              "<style scoped>\n",
              "    .dataframe tbody tr th:only-of-type {\n",
              "        vertical-align: middle;\n",
              "    }\n",
              "\n",
              "    .dataframe tbody tr th {\n",
              "        vertical-align: top;\n",
              "    }\n",
              "\n",
              "    .dataframe thead th {\n",
              "        text-align: right;\n",
              "    }\n",
              "</style>\n",
              "<table border=\"1\" class=\"dataframe\">\n",
              "  <thead>\n",
              "    <tr style=\"text-align: right;\">\n",
              "      <th></th>\n",
              "      <th>X1</th>\n",
              "      <th>X2</th>\n",
              "      <th>X3</th>\n",
              "      <th>X4</th>\n",
              "    </tr>\n",
              "  </thead>\n",
              "  <tbody>\n",
              "    <tr>\n",
              "      <th>0</th>\n",
              "      <td>70</td>\n",
              "      <td>49.0</td>\n",
              "      <td>30.0</td>\n",
              "      <td>34.0</td>\n",
              "    </tr>\n",
              "    <tr>\n",
              "      <th>1</th>\n",
              "      <td>77</td>\n",
              "      <td>60.0</td>\n",
              "      <td>37.0</td>\n",
              "      <td>36.0</td>\n",
              "    </tr>\n",
              "    <tr>\n",
              "      <th>2</th>\n",
              "      <td>83</td>\n",
              "      <td>63.0</td>\n",
              "      <td>56.0</td>\n",
              "      <td>48.0</td>\n",
              "    </tr>\n",
              "    <tr>\n",
              "      <th>3</th>\n",
              "      <td>87</td>\n",
              "      <td>67.0</td>\n",
              "      <td>65.0</td>\n",
              "      <td>48.0</td>\n",
              "    </tr>\n",
              "    <tr>\n",
              "      <th>4</th>\n",
              "      <td>92</td>\n",
              "      <td>70.0</td>\n",
              "      <td>76.0</td>\n",
              "      <td>65.0</td>\n",
              "    </tr>\n",
              "  </tbody>\n",
              "</table>\n",
              "</div>"
            ],
            "text/plain": [
              "   X1    X2    X3    X4\n",
              "0  70  49.0  30.0  34.0\n",
              "1  77  60.0  37.0  36.0\n",
              "2  83  63.0  56.0  48.0\n",
              "3  87  67.0  65.0  48.0\n",
              "4  92  70.0  76.0  65.0"
            ]
          },
          "metadata": {
            "tags": []
          },
          "execution_count": 114
        }
      ]
    },
    {
      "cell_type": "code",
      "metadata": {
        "id": "7LeEOIENuwIy"
      },
      "source": [
        "owan3 = ProJect_ANOVA(df_3)"
      ],
      "execution_count": 115,
      "outputs": []
    },
    {
      "cell_type": "code",
      "metadata": {
        "colab": {
          "base_uri": "https://localhost:8080/"
        },
        "id": "JFLaQMLqu02Y",
        "outputId": "12939a91-8ae3-4d0e-e117-5c45ad93409f"
      },
      "source": [
        "owan3.KT_phan_phoi_chuan()\n",
        "owan3.KT_phuong_sai()"
      ],
      "execution_count": 116,
      "outputs": [
        {
          "output_type": "stream",
          "text": [
            "Mẫu 1 tuân theo phân phối chuẩn\n",
            "Mẫu 2 tuân theo phân phối chuẩn\n",
            "Mẫu 3 tuân theo phân phối chuẩn\n",
            "Mẫu 4 tuân theo phân phối chuẩn\n",
            "Có ít nhất một cặp Phương sai không bằng nhau\n"
          ],
          "name": "stdout"
        }
      ]
    },
    {
      "cell_type": "markdown",
      "metadata": {
        "id": "4pr26ukyu6-B"
      },
      "source": [
        "Business Startup Costs"
      ]
    },
    {
      "cell_type": "code",
      "metadata": {
        "colab": {
          "base_uri": "https://localhost:8080/",
          "height": 212
        },
        "id": "MjQ9qewtu9br",
        "outputId": "f0df377b-180a-48e6-e5a9-49e3da50e4c6"
      },
      "source": [
        "df_4 = pd.read_excel('owan04.xls')\n",
        "df_4.head()"
      ],
      "execution_count": 117,
      "outputs": [
        {
          "output_type": "stream",
          "text": [
            "*** No CODEPAGE record, no encoding_override: will use 'ascii'\n"
          ],
          "name": "stdout"
        },
        {
          "output_type": "execute_result",
          "data": {
            "text/html": [
              "<div>\n",
              "<style scoped>\n",
              "    .dataframe tbody tr th:only-of-type {\n",
              "        vertical-align: middle;\n",
              "    }\n",
              "\n",
              "    .dataframe tbody tr th {\n",
              "        vertical-align: top;\n",
              "    }\n",
              "\n",
              "    .dataframe thead th {\n",
              "        text-align: right;\n",
              "    }\n",
              "</style>\n",
              "<table border=\"1\" class=\"dataframe\">\n",
              "  <thead>\n",
              "    <tr style=\"text-align: right;\">\n",
              "      <th></th>\n",
              "      <th>X1</th>\n",
              "      <th>X2</th>\n",
              "      <th>X3</th>\n",
              "      <th>X4</th>\n",
              "      <th>X5</th>\n",
              "    </tr>\n",
              "  </thead>\n",
              "  <tbody>\n",
              "    <tr>\n",
              "      <th>0</th>\n",
              "      <td>80.0</td>\n",
              "      <td>150.0</td>\n",
              "      <td>48.0</td>\n",
              "      <td>100.0</td>\n",
              "      <td>25</td>\n",
              "    </tr>\n",
              "    <tr>\n",
              "      <th>1</th>\n",
              "      <td>125.0</td>\n",
              "      <td>40.0</td>\n",
              "      <td>35.0</td>\n",
              "      <td>96.0</td>\n",
              "      <td>80</td>\n",
              "    </tr>\n",
              "    <tr>\n",
              "      <th>2</th>\n",
              "      <td>35.0</td>\n",
              "      <td>120.0</td>\n",
              "      <td>95.0</td>\n",
              "      <td>35.0</td>\n",
              "      <td>30</td>\n",
              "    </tr>\n",
              "    <tr>\n",
              "      <th>3</th>\n",
              "      <td>58.0</td>\n",
              "      <td>75.0</td>\n",
              "      <td>45.0</td>\n",
              "      <td>99.0</td>\n",
              "      <td>35</td>\n",
              "    </tr>\n",
              "    <tr>\n",
              "      <th>4</th>\n",
              "      <td>110.0</td>\n",
              "      <td>160.0</td>\n",
              "      <td>75.0</td>\n",
              "      <td>75.0</td>\n",
              "      <td>30</td>\n",
              "    </tr>\n",
              "  </tbody>\n",
              "</table>\n",
              "</div>"
            ],
            "text/plain": [
              "      X1     X2    X3     X4  X5\n",
              "0   80.0  150.0  48.0  100.0  25\n",
              "1  125.0   40.0  35.0   96.0  80\n",
              "2   35.0  120.0  95.0   35.0  30\n",
              "3   58.0   75.0  45.0   99.0  35\n",
              "4  110.0  160.0  75.0   75.0  30"
            ]
          },
          "metadata": {
            "tags": []
          },
          "execution_count": 117
        }
      ]
    },
    {
      "cell_type": "code",
      "metadata": {
        "id": "Eg5CVRGyvkoW"
      },
      "source": [
        "owan4 = ProJect_ANOVA(df_4)"
      ],
      "execution_count": 118,
      "outputs": []
    },
    {
      "cell_type": "code",
      "metadata": {
        "colab": {
          "base_uri": "https://localhost:8080/"
        },
        "id": "veQBZe-uvnVd",
        "outputId": "89ad1bd2-c053-4167-f1c3-b4eaff9bec08"
      },
      "source": [
        "owan4.KT_phan_phoi_chuan()\n",
        "owan4.KT_phuong_sai()"
      ],
      "execution_count": 119,
      "outputs": [
        {
          "output_type": "stream",
          "text": [
            "Mẫu 1 tuân theo phân phối chuẩn\n",
            "Mẫu 2 tuân theo phân phối chuẩn\n",
            "Mẫu 3 tuân theo phân phối chuẩn\n",
            "Mẫu 4 tuân theo phân phối chuẩn\n",
            "Mẫu 5 tuân theo phân phối chuẩn\n",
            "Phương sai bằng nhau\n"
          ],
          "name": "stdout"
        }
      ]
    },
    {
      "cell_type": "markdown",
      "metadata": {
        "id": "socuJXczvwgQ"
      },
      "source": [
        "Weights of Football Players"
      ]
    },
    {
      "cell_type": "code",
      "metadata": {
        "colab": {
          "base_uri": "https://localhost:8080/",
          "height": 212
        },
        "id": "e5ujrRlvvzmW",
        "outputId": "90827699-1e69-4c90-a1c8-d10ebc9dfc5d"
      },
      "source": [
        "df_5 = pd.read_excel('owan05.xls')\n",
        "df_5.head()"
      ],
      "execution_count": 120,
      "outputs": [
        {
          "output_type": "stream",
          "text": [
            "*** No CODEPAGE record, no encoding_override: will use 'ascii'\n"
          ],
          "name": "stdout"
        },
        {
          "output_type": "execute_result",
          "data": {
            "text/html": [
              "<div>\n",
              "<style scoped>\n",
              "    .dataframe tbody tr th:only-of-type {\n",
              "        vertical-align: middle;\n",
              "    }\n",
              "\n",
              "    .dataframe tbody tr th {\n",
              "        vertical-align: top;\n",
              "    }\n",
              "\n",
              "    .dataframe thead th {\n",
              "        text-align: right;\n",
              "    }\n",
              "</style>\n",
              "<table border=\"1\" class=\"dataframe\">\n",
              "  <thead>\n",
              "    <tr style=\"text-align: right;\">\n",
              "      <th></th>\n",
              "      <th>X1</th>\n",
              "      <th>X2</th>\n",
              "      <th>X3</th>\n",
              "      <th>X4</th>\n",
              "      <th>X5</th>\n",
              "    </tr>\n",
              "  </thead>\n",
              "  <tbody>\n",
              "    <tr>\n",
              "      <th>0</th>\n",
              "      <td>250</td>\n",
              "      <td>260</td>\n",
              "      <td>270</td>\n",
              "      <td>260</td>\n",
              "      <td>247</td>\n",
              "    </tr>\n",
              "    <tr>\n",
              "      <th>1</th>\n",
              "      <td>255</td>\n",
              "      <td>271</td>\n",
              "      <td>250</td>\n",
              "      <td>255</td>\n",
              "      <td>249</td>\n",
              "    </tr>\n",
              "    <tr>\n",
              "      <th>2</th>\n",
              "      <td>255</td>\n",
              "      <td>258</td>\n",
              "      <td>281</td>\n",
              "      <td>265</td>\n",
              "      <td>255</td>\n",
              "    </tr>\n",
              "    <tr>\n",
              "      <th>3</th>\n",
              "      <td>264</td>\n",
              "      <td>263</td>\n",
              "      <td>273</td>\n",
              "      <td>257</td>\n",
              "      <td>247</td>\n",
              "    </tr>\n",
              "    <tr>\n",
              "      <th>4</th>\n",
              "      <td>250</td>\n",
              "      <td>267</td>\n",
              "      <td>257</td>\n",
              "      <td>268</td>\n",
              "      <td>244</td>\n",
              "    </tr>\n",
              "  </tbody>\n",
              "</table>\n",
              "</div>"
            ],
            "text/plain": [
              "    X1   X2   X3   X4   X5\n",
              "0  250  260  270  260  247\n",
              "1  255  271  250  255  249\n",
              "2  255  258  281  265  255\n",
              "3  264  263  273  257  247\n",
              "4  250  267  257  268  244"
            ]
          },
          "metadata": {
            "tags": []
          },
          "execution_count": 120
        }
      ]
    },
    {
      "cell_type": "code",
      "metadata": {
        "id": "l3eQqfsNv-ub"
      },
      "source": [
        "owan5 = ProJect_ANOVA(df_5)"
      ],
      "execution_count": 121,
      "outputs": []
    },
    {
      "cell_type": "code",
      "metadata": {
        "colab": {
          "base_uri": "https://localhost:8080/"
        },
        "id": "kBjMiE6WwBmJ",
        "outputId": "b83e1774-26f9-4f40-f708-8a461bd93bb8"
      },
      "source": [
        "owan5.KT_phan_phoi_chuan()\n",
        "owan5.KT_phuong_sai()"
      ],
      "execution_count": 122,
      "outputs": [
        {
          "output_type": "stream",
          "text": [
            "Mẫu 1 không tuân theo phân phối chuẩn\n",
            "Mẫu 2 tuân theo phân phối chuẩn\n",
            "Mẫu 3 tuân theo phân phối chuẩn\n",
            "Mẫu 4 tuân theo phân phối chuẩn\n",
            "Mẫu 5 tuân theo phân phối chuẩn\n",
            "Phương sai bằng nhau\n"
          ],
          "name": "stdout"
        }
      ]
    }
  ]
}