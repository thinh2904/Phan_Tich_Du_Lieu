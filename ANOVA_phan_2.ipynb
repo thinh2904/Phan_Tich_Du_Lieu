{
  "nbformat": 4,
  "nbformat_minor": 0,
  "metadata": {
    "kernelspec": {
      "display_name": "Python 3",
      "language": "python",
      "name": "python3"
    },
    "language_info": {
      "codemirror_mode": {
        "name": "ipython",
        "version": 3
      },
      "file_extension": ".py",
      "mimetype": "text/x-python",
      "name": "python",
      "nbconvert_exporter": "python",
      "pygments_lexer": "ipython3",
      "version": "3.7.3"
    },
    "colab": {
      "name": "ANOVA_phan_2.ipynb",
      "provenance": [],
      "collapsed_sections": []
    }
  },
  "cells": [
    {
      "cell_type": "markdown",
      "metadata": {
        "id": "Cp-MUDdfPBR-"
      },
      "source": [
        "PHÂN TÍCH ANOVA MỘT CHIỀU\n",
        "\n",
        "Phân tích ANOVA chấp nhận các giả định sau:\n",
        "\n",
        "(1) Tất cả các nhóm đều độc lập với nhau\n",
        "\n",
        "(2) Dữ liệu của mỗi nhóm đều tuân theo phân phối chuẩn. Tính chất này có thể được kiểm định bằng phương pháp Shapiro-Wilks.\n",
        "\n",
        "(3) Phương sai (variance) của các nhóm bằng nhau. Tính chất này có thể được kiểm định bằng phương pháp kiểm định Bartlett hay Levene.\n",
        "\n",
        "Nếu dữ liệu hiện có thỏa mãn các tính chất trên thì chúng ta mới tiến hành kiểm định ANOVA. Do vậy trước khi tiến hành kiểm định ANOVA, chúng ta cần thực hiện kiểm tra tập dữ liệu cần thỏa mãn 3 tính chất trên.\n",
        "    "
      ]
    },
    {
      "cell_type": "code",
      "metadata": {
        "id": "9w5DYKNpS2Zf"
      },
      "source": [
        "import numpy as np\n",
        "import pandas as pd\n",
        "import random\n",
        "import scipy\n",
        "from scipy import stats"
      ],
      "execution_count": 27,
      "outputs": []
    },
    {
      "cell_type": "code",
      "metadata": {
        "id": "V_UNJLn9PBSE",
        "colab": {
          "base_uri": "https://localhost:8080/"
        },
        "outputId": "f0d6ffb9-2c9f-4780-b37d-d3070461485b"
      },
      "source": [
        "sample_1 = np.random.normal(20, 0.1, 100)\n",
        "sample_1[:10]"
      ],
      "execution_count": 28,
      "outputs": [
        {
          "output_type": "execute_result",
          "data": {
            "text/plain": [
              "array([20.09547982, 20.04430657, 20.06217709, 20.08662852, 19.89913827,\n",
              "       20.15993433, 20.14359899, 20.02587545, 20.02966394, 20.11102467])"
            ]
          },
          "metadata": {
            "tags": []
          },
          "execution_count": 28
        }
      ]
    },
    {
      "cell_type": "code",
      "metadata": {
        "id": "-fbgeRm7PBSF",
        "colab": {
          "base_uri": "https://localhost:8080/"
        },
        "outputId": "059d95b0-65bd-4171-edc4-e869206d594d"
      },
      "source": [
        "sample_2 = s = np.random.poisson(20, 100)\n",
        "sample_2[:10]"
      ],
      "execution_count": 29,
      "outputs": [
        {
          "output_type": "execute_result",
          "data": {
            "text/plain": [
              "array([17, 24, 20, 13, 21, 24, 20, 30, 21, 21])"
            ]
          },
          "metadata": {
            "tags": []
          },
          "execution_count": 29
        }
      ]
    },
    {
      "cell_type": "markdown",
      "metadata": {
        "id": "lvQRyJi6PBSF"
      },
      "source": [
        "Hãy tham khảo các hướng dẫn sau để kiểm định tính chất thứ 2 bằng phương pháp Shapiro-Wilks đối với sample_1 và sample_2\n",
        "\n",
        "(1) [Tài liệu tham khảo scipy](https://docs.scipy.org/doc/scipy/reference/generated/scipy.stats.shapiro.html)\n",
        "\n",
        "(2) [Hướng dẫn cụ thể của statology](https://www.statology.org/shapiro-wilk-test-python/)"
      ]
    },
    {
      "cell_type": "markdown",
      "metadata": {
        "id": "JrwTX0zZjD8S"
      },
      "source": [
        "Cách 1:"
      ]
    },
    {
      "cell_type": "code",
      "metadata": {
        "id": "wiM7UfpYUg-G"
      },
      "source": [
        "from scipy.stats import shapiro"
      ],
      "execution_count": 30,
      "outputs": []
    },
    {
      "cell_type": "code",
      "metadata": {
        "colab": {
          "base_uri": "https://localhost:8080/"
        },
        "id": "jdoeHekuUkVL",
        "outputId": "fd11f618-9781-4e85-839b-200bed41a844"
      },
      "source": [
        "t1, p1 = shapiro(sample_1)\n",
        "if p1 > 0.05:\n",
        "  print(\"Phân phối chuẩn\")\n",
        "else:\n",
        "  print(\"Phân phối không chuẩn\")"
      ],
      "execution_count": 31,
      "outputs": [
        {
          "output_type": "stream",
          "text": [
            "Phân phối chuẩn\n"
          ],
          "name": "stdout"
        }
      ]
    },
    {
      "cell_type": "code",
      "metadata": {
        "colab": {
          "base_uri": "https://localhost:8080/"
        },
        "id": "vRrvry4xUo9d",
        "outputId": "0c3ce994-7c3e-4c0d-87a7-f0529e70f076"
      },
      "source": [
        "t2, p2 = shapiro(sample_2)\n",
        "if p2 > 0.05:\n",
        "  print(\"Phân phối chuẩn\")\n",
        "else:\n",
        "  print(\"Phân phối không chuẩn\")"
      ],
      "execution_count": 32,
      "outputs": [
        {
          "output_type": "stream",
          "text": [
            "Phân phối không chuẩn\n"
          ],
          "name": "stdout"
        }
      ]
    },
    {
      "cell_type": "markdown",
      "metadata": {
        "id": "B8FVd1EDjacK"
      },
      "source": [
        "Cách 2:"
      ]
    },
    {
      "cell_type": "code",
      "metadata": {
        "id": "lP0gyAHSPBSF",
        "colab": {
          "base_uri": "https://localhost:8080/"
        },
        "outputId": "1e52a5f3-b141-4f61-93d7-d1fe06303a2c"
      },
      "source": [
        "t1, p1 = scipy.stats.shapiro(sample_1)\n",
        "if p1 > 0.05:\n",
        "  print(\"Phân phối chuẩn\")\n",
        "else:\n",
        "  print(\"Phân phối không chuẩn\")"
      ],
      "execution_count": 33,
      "outputs": [
        {
          "output_type": "stream",
          "text": [
            "Phân phối chuẩn\n"
          ],
          "name": "stdout"
        }
      ]
    },
    {
      "cell_type": "code",
      "metadata": {
        "colab": {
          "base_uri": "https://localhost:8080/"
        },
        "id": "P5n2NYXSW2kY",
        "outputId": "64b1b920-7f1f-49c1-f7b6-54f002a8c06f"
      },
      "source": [
        "t2, p2 = scipy.stats.shapiro(sample_1)\n",
        "if p2 > 0.05:\n",
        "  print(\"Phân phối chuẩn\")\n",
        "else:\n",
        "  print(\"Phân phối không chuẩn\")"
      ],
      "execution_count": 34,
      "outputs": [
        {
          "output_type": "stream",
          "text": [
            "Phân phối chuẩn\n"
          ],
          "name": "stdout"
        }
      ]
    },
    {
      "cell_type": "markdown",
      "metadata": {
        "id": "7bLmCIKpPBSF"
      },
      "source": [
        "Hãy tham khảo các hướng dẫn sau để kiểm định tính chất thứ 3 bằng kiểm định Bartlett hoặc kiểm định Levene\n",
        "\n",
        "(1) [Hướng dẫn tổng quát](https://www.marsja.se/levenes-bartletts-test-of-equality-homogeneity-of-variance-in-python/)\n",
        "\n",
        "(2) [Hướng dẫn ở stackoverflow](https://stackoverflow.com/questions/36141254/how-to-test-for-homoscedasticity-having-the-same-population-variance-in-python)\n",
        "\n",
        "(3) Sử dụng bài giảng về kiểm định Bartlett và Levene ở buổi trước"
      ]
    },
    {
      "cell_type": "markdown",
      "metadata": {
        "id": "QGk07MNLjog5"
      },
      "source": [
        "Lấy dữ liệu từ bài trước, ta có:"
      ]
    },
    {
      "cell_type": "code",
      "metadata": {
        "id": "ixCux9VSjvYt"
      },
      "source": [
        "f = {'Business Majors': np.random.normal(random.uniform(2, 5), 0.1, 35),\n",
        "     'Englissh Majors': np.random.normal(random.uniform(2, 5), 0.2, 35),\n",
        "     'Math Majors': np.random.normal(random.uniform(2, 5), 0.15, 35),\n",
        "     'Psych Majors': np.random.normal(random.uniform(2, 5), 0.1, 35)}\n",
        "\n",
        "df3 = pd.DataFrame(f)"
      ],
      "execution_count": 35,
      "outputs": []
    },
    {
      "cell_type": "code",
      "metadata": {
        "colab": {
          "base_uri": "https://localhost:8080/",
          "height": 195
        },
        "id": "q7r6A7z0j2eE",
        "outputId": "e71f766d-7d31-48b8-b992-9c00841d1809"
      },
      "source": [
        "df3.head()"
      ],
      "execution_count": 36,
      "outputs": [
        {
          "output_type": "execute_result",
          "data": {
            "text/html": [
              "<div>\n",
              "<style scoped>\n",
              "    .dataframe tbody tr th:only-of-type {\n",
              "        vertical-align: middle;\n",
              "    }\n",
              "\n",
              "    .dataframe tbody tr th {\n",
              "        vertical-align: top;\n",
              "    }\n",
              "\n",
              "    .dataframe thead th {\n",
              "        text-align: right;\n",
              "    }\n",
              "</style>\n",
              "<table border=\"1\" class=\"dataframe\">\n",
              "  <thead>\n",
              "    <tr style=\"text-align: right;\">\n",
              "      <th></th>\n",
              "      <th>Business Majors</th>\n",
              "      <th>Englissh Majors</th>\n",
              "      <th>Math Majors</th>\n",
              "      <th>Psych Majors</th>\n",
              "    </tr>\n",
              "  </thead>\n",
              "  <tbody>\n",
              "    <tr>\n",
              "      <th>0</th>\n",
              "      <td>2.822890</td>\n",
              "      <td>3.930998</td>\n",
              "      <td>3.602209</td>\n",
              "      <td>4.038182</td>\n",
              "    </tr>\n",
              "    <tr>\n",
              "      <th>1</th>\n",
              "      <td>2.765930</td>\n",
              "      <td>4.077985</td>\n",
              "      <td>3.467481</td>\n",
              "      <td>3.994283</td>\n",
              "    </tr>\n",
              "    <tr>\n",
              "      <th>2</th>\n",
              "      <td>3.124973</td>\n",
              "      <td>3.981263</td>\n",
              "      <td>3.709192</td>\n",
              "      <td>4.082093</td>\n",
              "    </tr>\n",
              "    <tr>\n",
              "      <th>3</th>\n",
              "      <td>2.858451</td>\n",
              "      <td>3.596528</td>\n",
              "      <td>3.489435</td>\n",
              "      <td>4.035610</td>\n",
              "    </tr>\n",
              "    <tr>\n",
              "      <th>4</th>\n",
              "      <td>2.961282</td>\n",
              "      <td>3.714237</td>\n",
              "      <td>3.437020</td>\n",
              "      <td>4.018762</td>\n",
              "    </tr>\n",
              "  </tbody>\n",
              "</table>\n",
              "</div>"
            ],
            "text/plain": [
              "   Business Majors  Englissh Majors  Math Majors  Psych Majors\n",
              "0         2.822890         3.930998     3.602209      4.038182\n",
              "1         2.765930         4.077985     3.467481      3.994283\n",
              "2         3.124973         3.981263     3.709192      4.082093\n",
              "3         2.858451         3.596528     3.489435      4.035610\n",
              "4         2.961282         3.714237     3.437020      4.018762"
            ]
          },
          "metadata": {
            "tags": []
          },
          "execution_count": 36
        }
      ]
    },
    {
      "cell_type": "code",
      "metadata": {
        "id": "aAnn31w1lQM1"
      },
      "source": [
        "a = df3['Business Majors']\n",
        "b = df3['Englissh Majors']\n",
        "c = df3['Math Majors']\n",
        "d = df3['Psych Majors']"
      ],
      "execution_count": 47,
      "outputs": []
    },
    {
      "cell_type": "markdown",
      "metadata": {
        "id": "a59VkWdsjlOP"
      },
      "source": [
        "Cách 1:"
      ]
    },
    {
      "cell_type": "code",
      "metadata": {
        "id": "8bEpF16tZFGH"
      },
      "source": [
        "from scipy.stats import bartlett\n",
        "from scipy.stats import levene"
      ],
      "execution_count": 48,
      "outputs": []
    },
    {
      "cell_type": "code",
      "metadata": {
        "colab": {
          "base_uri": "https://localhost:8080/"
        },
        "id": "v6wtmmVVlVXA",
        "outputId": "cf68ea67-0efb-4ce9-b359-ba4d7ac71017"
      },
      "source": [
        "stat, p = bartlett(a, b, c, d)\n",
        "print('p_value = ', p)"
      ],
      "execution_count": 49,
      "outputs": [
        {
          "output_type": "stream",
          "text": [
            "p_value =  0.000534332138191994\n"
          ],
          "name": "stdout"
        }
      ]
    },
    {
      "cell_type": "code",
      "metadata": {
        "colab": {
          "base_uri": "https://localhost:8080/"
        },
        "id": "Mfde32njZHHL",
        "outputId": "3b771262-d306-4655-ff5d-c8a27ffe2691"
      },
      "source": [
        "stat, p = levene(a, b, c, d)\n",
        "print('p_value = ', p)"
      ],
      "execution_count": 50,
      "outputs": [
        {
          "output_type": "stream",
          "text": [
            "p_value =  0.006011521516866345\n"
          ],
          "name": "stdout"
        }
      ]
    },
    {
      "cell_type": "markdown",
      "metadata": {
        "id": "l7WnCD3llieh"
      },
      "source": [
        "Cách 2:"
      ]
    },
    {
      "cell_type": "code",
      "metadata": {
        "id": "S-5NO1pGPBSG",
        "colab": {
          "base_uri": "https://localhost:8080/"
        },
        "outputId": "f83edb01-8f84-4c09-8753-843e51286b26"
      },
      "source": [
        "scipy.stats.bartlett(a, b, c, d)"
      ],
      "execution_count": 51,
      "outputs": [
        {
          "output_type": "execute_result",
          "data": {
            "text/plain": [
              "BartlettResult(statistic=17.59002474951155, pvalue=0.000534332138191994)"
            ]
          },
          "metadata": {
            "tags": []
          },
          "execution_count": 51
        }
      ]
    },
    {
      "cell_type": "code",
      "metadata": {
        "id": "F0cqoXonPBSG",
        "colab": {
          "base_uri": "https://localhost:8080/"
        },
        "outputId": "3215bd0f-81bf-4e00-8118-ce6b6c391df8"
      },
      "source": [
        "scipy.stats.levene(a, b, c, d)"
      ],
      "execution_count": 52,
      "outputs": [
        {
          "output_type": "execute_result",
          "data": {
            "text/plain": [
              "LeveneResult(statistic=4.326650702330876, pvalue=0.006011521516866345)"
            ]
          },
          "metadata": {
            "tags": []
          },
          "execution_count": 52
        }
      ]
    }
  ]
}