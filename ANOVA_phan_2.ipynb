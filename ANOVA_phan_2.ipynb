{
  "nbformat": 4,
  "nbformat_minor": 0,
  "metadata": {
    "kernelspec": {
      "display_name": "Python 3",
      "language": "python",
      "name": "python3"
    },
    "language_info": {
      "codemirror_mode": {
        "name": "ipython",
        "version": 3
      },
      "file_extension": ".py",
      "mimetype": "text/x-python",
      "name": "python",
      "nbconvert_exporter": "python",
      "pygments_lexer": "ipython3",
      "version": "3.7.3"
    },
    "colab": {
      "name": "ANOVA_phan_2.ipynb",
      "provenance": [],
      "collapsed_sections": [],
      "include_colab_link": true
    }
  },
  "cells": [
    {
      "cell_type": "markdown",
      "metadata": {
        "id": "view-in-github",
        "colab_type": "text"
      },
      "source": [
        "<a href=\"https://colab.research.google.com/github/thinh2904/Phan_Tich_Du_Lieu/blob/main/ANOVA_phan_2.ipynb\" target=\"_parent\"><img src=\"https://colab.research.google.com/assets/colab-badge.svg\" alt=\"Open In Colab\"/></a>"
      ]
    },
    {
      "cell_type": "markdown",
      "metadata": {
        "id": "Cp-MUDdfPBR-"
      },
      "source": [
        "PHÂN TÍCH ANOVA MỘT CHIỀU\n",
        "\n",
        "Phân tích ANOVA chấp nhận các giả định sau:\n",
        "\n",
        "(1) Tất cả các nhóm đều độc lập với nhau\n",
        "\n",
        "(2) Dữ liệu của mỗi nhóm đều tuân theo phân phối chuẩn. Tính chất này có thể được kiểm định bằng phương pháp Shapiro-Wilks.\n",
        "\n",
        "(3) Phương sai (variance) của các nhóm bằng nhau. Tính chất này có thể được kiểm định bằng phương pháp kiểm định Bartlett hay Levene.\n",
        "\n",
        "Nếu dữ liệu hiện có thỏa mãn các tính chất trên thì chúng ta mới tiến hành kiểm định ANOVA. Do vậy trước khi tiến hành kiểm định ANOVA, chúng ta cần thực hiện kiểm tra tập dữ liệu cần thỏa mãn 3 tính chất trên.\n",
        "    "
      ]
    },
    {
      "cell_type": "code",
      "metadata": {
        "id": "9w5DYKNpS2Zf"
      },
      "source": [
        "import numpy as np\n",
        "import pandas as pd\n",
        "import random\n",
        "import scipy\n",
        "from scipy import stats"
      ],
      "execution_count": 25,
      "outputs": []
    },
    {
      "cell_type": "code",
      "metadata": {
        "id": "V_UNJLn9PBSE",
        "colab": {
          "base_uri": "https://localhost:8080/"
        },
        "outputId": "0b3300e5-24a9-4b8c-8128-b21f51f76fd8"
      },
      "source": [
        "sample_1 = np.random.normal(20, 0.1, 100)\n",
        "sample_1[:10]"
      ],
      "execution_count": 26,
      "outputs": [
        {
          "output_type": "execute_result",
          "data": {
            "text/plain": [
              "array([20.14141877, 19.96778809, 19.94506008, 19.91739706, 20.07987947,\n",
              "       20.03478933, 20.01160973, 19.76655577, 19.97534765, 20.06434754])"
            ]
          },
          "metadata": {
            "tags": []
          },
          "execution_count": 26
        }
      ]
    },
    {
      "cell_type": "code",
      "metadata": {
        "id": "-fbgeRm7PBSF",
        "colab": {
          "base_uri": "https://localhost:8080/"
        },
        "outputId": "2a401c02-b862-45a7-d093-21a9d1e3f629"
      },
      "source": [
        "sample_2 = s = np.random.poisson(20, 100)\n",
        "sample_2[:10]"
      ],
      "execution_count": 27,
      "outputs": [
        {
          "output_type": "execute_result",
          "data": {
            "text/plain": [
              "array([18, 18, 11, 21, 26, 25, 19, 26, 21, 27])"
            ]
          },
          "metadata": {
            "tags": []
          },
          "execution_count": 27
        }
      ]
    },
    {
      "cell_type": "markdown",
      "metadata": {
        "id": "lvQRyJi6PBSF"
      },
      "source": [
        "Hãy tham khảo các hướng dẫn sau để kiểm định tính chất thứ 2 bằng phương pháp Shapiro-Wilks đối với sample_1 và sample_2\n",
        "\n",
        "(1) [Tài liệu tham khảo scipy](https://docs.scipy.org/doc/scipy/reference/generated/scipy.stats.shapiro.html)\n",
        "\n",
        "(2) [Hướng dẫn cụ thể của statology](https://www.statology.org/shapiro-wilk-test-python/)"
      ]
    },
    {
      "cell_type": "markdown",
      "metadata": {
        "id": "kUyNAbCR_5xX"
      },
      "source": [
        "**Xây dựng giả thuyết về phân phối chuẩn**\n",
        "\n",
        "*H0*: Mẫu tuân theo phân phối chuẩn\n",
        "\n",
        "*Ha*: Mẫu không tuân theo phân phối chuẩn"
      ]
    },
    {
      "cell_type": "markdown",
      "metadata": {
        "id": "JrwTX0zZjD8S"
      },
      "source": [
        "Cách 1:"
      ]
    },
    {
      "cell_type": "code",
      "metadata": {
        "id": "wiM7UfpYUg-G"
      },
      "source": [
        "from scipy.stats import shapiro"
      ],
      "execution_count": 28,
      "outputs": []
    },
    {
      "cell_type": "code",
      "metadata": {
        "colab": {
          "base_uri": "https://localhost:8080/"
        },
        "id": "jdoeHekuUkVL",
        "outputId": "c2398902-8222-454c-e594-87acb205a90c"
      },
      "source": [
        "t1, p1 = shapiro(sample_1)\n",
        "if p1 > 0.05:\n",
        "  print(\"Chưa đủ bằng chứng thống kê để bác bỏ H0, Điều này ngụ ý Mẫu tuân theo phân phối chuẩn\")\n",
        "else:\n",
        "  print(\"Có bằng chứng thống kê để bác bỏ H0, Điều này ngụ ý Mẫu tuân không tuân theo phân phối chuẩn\")"
      ],
      "execution_count": 29,
      "outputs": [
        {
          "output_type": "stream",
          "text": [
            "Chưa đủ bằng chứng thống kê để bác bỏ H0, Điều này ngụ ý Mẫu tuân theo phân phối chuẩn\n"
          ],
          "name": "stdout"
        }
      ]
    },
    {
      "cell_type": "code",
      "metadata": {
        "colab": {
          "base_uri": "https://localhost:8080/"
        },
        "id": "vRrvry4xUo9d",
        "outputId": "8d6eb4ea-9908-4e2d-cabb-174cabedc8a6"
      },
      "source": [
        "t2, p2 = shapiro(sample_2)\n",
        "if p2 > 0.05:\n",
        "  print(\"Chưa đủ bằng chứng thống kê để bác bỏ H0, Điều này ngụ ý Mẫu tuân theo phân phối chuẩn\")\n",
        "else:\n",
        "  print(\"Có bằng chứng thống kê để bác bỏ H0, Điều này ngụ ý Mẫu tuân không tuân theo phân phối chuẩn\")"
      ],
      "execution_count": 30,
      "outputs": [
        {
          "output_type": "stream",
          "text": [
            "Chưa đủ bằng chứng thống kê để bác bỏ H0, Điều này ngụ ý Mẫu tuân theo phân phối chuẩn\n"
          ],
          "name": "stdout"
        }
      ]
    },
    {
      "cell_type": "markdown",
      "metadata": {
        "id": "B8FVd1EDjacK"
      },
      "source": [
        "Cách 2:"
      ]
    },
    {
      "cell_type": "code",
      "metadata": {
        "id": "lP0gyAHSPBSF",
        "colab": {
          "base_uri": "https://localhost:8080/"
        },
        "outputId": "71c23f45-8a4a-491e-a0e1-17fea7ddace9"
      },
      "source": [
        "t1, p1 = scipy.stats.shapiro(sample_1)\n",
        "if p1 > 0.05:\n",
        "  print(\"Chưa đủ bằng chứng thống kê để bác bỏ H0, Điều này ngụ ý Mẫu tuân theo phân phối chuẩn\")\n",
        "else:\n",
        "  print(\"Có bằng chứng thống kê để bác bỏ H0, Điều này ngụ ý Mẫu tuân không tuân theo phân phối chuẩn\")"
      ],
      "execution_count": 31,
      "outputs": [
        {
          "output_type": "stream",
          "text": [
            "Chưa đủ bằng chứng thống kê để bác bỏ H0, Điều này ngụ ý Mẫu tuân theo phân phối chuẩn\n"
          ],
          "name": "stdout"
        }
      ]
    },
    {
      "cell_type": "code",
      "metadata": {
        "colab": {
          "base_uri": "https://localhost:8080/"
        },
        "id": "P5n2NYXSW2kY",
        "outputId": "3e4f2960-5bbd-4034-9caa-43867aa448c2"
      },
      "source": [
        "t2, p2 = scipy.stats.shapiro(sample_1)\n",
        "if p2 > 0.05:\n",
        "  print(\"Chưa đủ bằng chứng thống kê để bác bỏ H0, Điều này ngụ ý Mẫu tuân theo phân phối chuẩn\")\n",
        "else:\n",
        "  print(\"Có bằng chứng thống kê để bác bỏ H0, Điều này ngụ ý Mẫu tuân không tuân theo phân phối chuẩn\")"
      ],
      "execution_count": 32,
      "outputs": [
        {
          "output_type": "stream",
          "text": [
            "Chưa đủ bằng chứng thống kê để bác bỏ H0, Điều này ngụ ý Mẫu tuân theo phân phối chuẩn\n"
          ],
          "name": "stdout"
        }
      ]
    },
    {
      "cell_type": "markdown",
      "metadata": {
        "id": "7bLmCIKpPBSF"
      },
      "source": [
        "Hãy tham khảo các hướng dẫn sau để kiểm định tính chất thứ 3 bằng kiểm định Bartlett hoặc kiểm định Levene\n",
        "\n",
        "(1) [Hướng dẫn tổng quát](https://www.marsja.se/levenes-bartletts-test-of-equality-homogeneity-of-variance-in-python/)\n",
        "\n",
        "(2) [Hướng dẫn ở stackoverflow](https://stackoverflow.com/questions/36141254/how-to-test-for-homoscedasticity-having-the-same-population-variance-in-python)\n",
        "\n",
        "(3) Sử dụng bài giảng về kiểm định Bartlett và Levene ở buổi trước"
      ]
    },
    {
      "cell_type": "markdown",
      "metadata": {
        "id": "QGk07MNLjog5"
      },
      "source": [
        "Lấy dữ liệu từ bài trước, ta có:"
      ]
    },
    {
      "cell_type": "code",
      "metadata": {
        "id": "ixCux9VSjvYt"
      },
      "source": [
        "f = {'Business Majors': np.random.normal(random.uniform(2, 5), 0.1, 35),\n",
        "     'Englissh Majors': np.random.normal(random.uniform(2, 5), 0.2, 35),\n",
        "     'Math Majors': np.random.normal(random.uniform(2, 5), 0.15, 35),\n",
        "     'Psych Majors': np.random.normal(random.uniform(2, 5), 0.1, 35)}\n",
        "\n",
        "df3 = pd.DataFrame(f)"
      ],
      "execution_count": 51,
      "outputs": []
    },
    {
      "cell_type": "code",
      "metadata": {
        "colab": {
          "base_uri": "https://localhost:8080/",
          "height": 195
        },
        "id": "q7r6A7z0j2eE",
        "outputId": "fb52fa18-96f1-4c23-aef3-29667e15c30f"
      },
      "source": [
        "df3.head()"
      ],
      "execution_count": 52,
      "outputs": [
        {
          "output_type": "execute_result",
          "data": {
            "text/html": [
              "<div>\n",
              "<style scoped>\n",
              "    .dataframe tbody tr th:only-of-type {\n",
              "        vertical-align: middle;\n",
              "    }\n",
              "\n",
              "    .dataframe tbody tr th {\n",
              "        vertical-align: top;\n",
              "    }\n",
              "\n",
              "    .dataframe thead th {\n",
              "        text-align: right;\n",
              "    }\n",
              "</style>\n",
              "<table border=\"1\" class=\"dataframe\">\n",
              "  <thead>\n",
              "    <tr style=\"text-align: right;\">\n",
              "      <th></th>\n",
              "      <th>Business Majors</th>\n",
              "      <th>Englissh Majors</th>\n",
              "      <th>Math Majors</th>\n",
              "      <th>Psych Majors</th>\n",
              "    </tr>\n",
              "  </thead>\n",
              "  <tbody>\n",
              "    <tr>\n",
              "      <th>0</th>\n",
              "      <td>2.976427</td>\n",
              "      <td>2.013476</td>\n",
              "      <td>4.437402</td>\n",
              "      <td>2.983361</td>\n",
              "    </tr>\n",
              "    <tr>\n",
              "      <th>1</th>\n",
              "      <td>3.197507</td>\n",
              "      <td>2.768330</td>\n",
              "      <td>4.281719</td>\n",
              "      <td>3.130769</td>\n",
              "    </tr>\n",
              "    <tr>\n",
              "      <th>2</th>\n",
              "      <td>2.967418</td>\n",
              "      <td>2.339229</td>\n",
              "      <td>4.565085</td>\n",
              "      <td>2.958652</td>\n",
              "    </tr>\n",
              "    <tr>\n",
              "      <th>3</th>\n",
              "      <td>3.073120</td>\n",
              "      <td>2.269070</td>\n",
              "      <td>4.421027</td>\n",
              "      <td>2.894135</td>\n",
              "    </tr>\n",
              "    <tr>\n",
              "      <th>4</th>\n",
              "      <td>2.987524</td>\n",
              "      <td>2.619033</td>\n",
              "      <td>4.477964</td>\n",
              "      <td>3.098994</td>\n",
              "    </tr>\n",
              "  </tbody>\n",
              "</table>\n",
              "</div>"
            ],
            "text/plain": [
              "   Business Majors  Englissh Majors  Math Majors  Psych Majors\n",
              "0         2.976427         2.013476     4.437402      2.983361\n",
              "1         3.197507         2.768330     4.281719      3.130769\n",
              "2         2.967418         2.339229     4.565085      2.958652\n",
              "3         3.073120         2.269070     4.421027      2.894135\n",
              "4         2.987524         2.619033     4.477964      3.098994"
            ]
          },
          "metadata": {
            "tags": []
          },
          "execution_count": 52
        }
      ]
    },
    {
      "cell_type": "code",
      "metadata": {
        "id": "aAnn31w1lQM1"
      },
      "source": [
        "a = df3['Business Majors']\n",
        "b = df3['Englissh Majors']\n",
        "c = df3['Math Majors']\n",
        "d = df3['Psych Majors']"
      ],
      "execution_count": 53,
      "outputs": []
    },
    {
      "cell_type": "markdown",
      "metadata": {
        "id": "1thIM5BmAtL_"
      },
      "source": [
        "**Phát biểu giả thuyết về kiểm định phương sai**\n",
        "\n",
        "*H0*: Phương sai các mẫu bằng nhau\n",
        "\n",
        "*Ha*: Tồn tại ít nhất một cặp mẫu có phương sai khác nhau"
      ]
    },
    {
      "cell_type": "markdown",
      "metadata": {
        "id": "a59VkWdsjlOP"
      },
      "source": [
        "Cách 1:"
      ]
    },
    {
      "cell_type": "code",
      "metadata": {
        "id": "8bEpF16tZFGH"
      },
      "source": [
        "from scipy.stats import bartlett\n",
        "from scipy.stats import levene"
      ],
      "execution_count": 54,
      "outputs": []
    },
    {
      "cell_type": "code",
      "metadata": {
        "colab": {
          "base_uri": "https://localhost:8080/"
        },
        "id": "v6wtmmVVlVXA",
        "outputId": "9d6176ec-52c9-4c3b-92fe-bf97972fbbca"
      },
      "source": [
        "stat, p = bartlett(a, b, c, d)\n",
        "print('p_value = ', p)\n",
        "if p > 0.05:\n",
        "  print(\"Chưa đủ bằng chứng thống kê để bác bỏ giả thuyết H0, Điều này ngụ ý rằng phương sai các mẫu bằng nhau\")\n",
        "else:\n",
        "  print(\"Có bằng chứng thống kê để bác bỏ giả thuyết H0, Điều này ngụ ý rằng Tồn tại ít nhất một cặp mẫu có phương sai khác nhau\")"
      ],
      "execution_count": 55,
      "outputs": [
        {
          "output_type": "stream",
          "text": [
            "p_value =  3.1401509387542116e-05\n",
            "Có bằng chứng thống kê để bác bỏ giả thuyết H0, Điều này ngụ ý rằng Tồn tại ít nhất một cặp mẫu có phương sai khác nhau\n"
          ],
          "name": "stdout"
        }
      ]
    },
    {
      "cell_type": "code",
      "metadata": {
        "colab": {
          "base_uri": "https://localhost:8080/"
        },
        "id": "Mfde32njZHHL",
        "outputId": "0bda08f1-535a-483a-8832-b0ff050cf97e"
      },
      "source": [
        "stat, p = levene(a, b, c, d)\n",
        "print('p_value = ', p)\n",
        "if p > 0.05:\n",
        "  print(\"Chưa đủ bằng chứng thống kê để bác bỏ giả thuyết H0, Điều này ngụ ý rằng phương sai các mẫu bằng nhau\")\n",
        "else:\n",
        "  print(\"Có bằng chứng thống kê để bác bỏ giả thuyết H0, Điều này ngụ ý rằng Tồn tại ít nhất một cặp mẫu có phương sai khác nhau\")"
      ],
      "execution_count": 56,
      "outputs": [
        {
          "output_type": "stream",
          "text": [
            "p_value =  0.005132860310899324\n",
            "Có bằng chứng thống kê để bác bỏ giả thuyết H0, Điều này ngụ ý rằng Tồn tại ít nhất một cặp mẫu có phương sai khác nhau\n"
          ],
          "name": "stdout"
        }
      ]
    },
    {
      "cell_type": "markdown",
      "metadata": {
        "id": "l7WnCD3llieh"
      },
      "source": [
        "Cách 2:"
      ]
    },
    {
      "cell_type": "code",
      "metadata": {
        "id": "S-5NO1pGPBSG",
        "colab": {
          "base_uri": "https://localhost:8080/"
        },
        "outputId": "ec4987a2-07dc-4cb6-f0ef-7457d41b6ecd"
      },
      "source": [
        "s, p =scipy.stats.bartlett(a, b, c, d)\n",
        "print('p_value = ', p)\n",
        "if p > 0.05:\n",
        "  print(\"Chưa đủ bằng chứng thống kê để bác bỏ giả thuyết H0, Điều này ngụ ý rằng phương sai các mẫu bằng nhau\")\n",
        "else:\n",
        "  print(\"Có bằng chứng thống kê để bác bỏ giả thuyết H0, Điều này ngụ ý rằng Tồn tại ít nhất một cặp mẫu có phương sai khác nhau\")"
      ],
      "execution_count": 57,
      "outputs": [
        {
          "output_type": "stream",
          "text": [
            "p_value =  3.1401509387542116e-05\n",
            "Có bằng chứng thống kê để bác bỏ giả thuyết H0, Điều này ngụ ý rằng Tồn tại ít nhất một cặp mẫu có phương sai khác nhau\n"
          ],
          "name": "stdout"
        }
      ]
    },
    {
      "cell_type": "code",
      "metadata": {
        "id": "F0cqoXonPBSG",
        "colab": {
          "base_uri": "https://localhost:8080/"
        },
        "outputId": "36d33162-0f4d-4c2c-a879-104ac9263526"
      },
      "source": [
        "s, p = scipy.stats.levene(a, b, c, d)\n",
        "print('p_value = ', p)\n",
        "if p > 0.05:\n",
        "  print(\"Chưa đủ bằng chứng thống kê để bác bỏ giả thuyết H0, Điều này ngụ ý rằng phương sai các mẫu bằng nhau\")\n",
        "else:\n",
        "  print(\"Có bằng chứng thống kê để bác bỏ giả thuyết H0, Điều này ngụ ý rằng Tồn tại ít nhất một cặp mẫu có phương sai khác nhau\")"
      ],
      "execution_count": 58,
      "outputs": [
        {
          "output_type": "stream",
          "text": [
            "p_value =  0.005132860310899324\n",
            "Có bằng chứng thống kê để bác bỏ giả thuyết H0, Điều này ngụ ý rằng Tồn tại ít nhất một cặp mẫu có phương sai khác nhau\n"
          ],
          "name": "stdout"
        }
      ]
    }
  ]
}