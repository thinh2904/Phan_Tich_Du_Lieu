{
  "nbformat": 4,
  "nbformat_minor": 0,
  "metadata": {
    "kernelspec": {
      "display_name": "Python 3",
      "language": "python",
      "name": "python3"
    },
    "language_info": {
      "codemirror_mode": {
        "name": "ipython",
        "version": 3
      },
      "file_extension": ".py",
      "mimetype": "text/x-python",
      "name": "python",
      "nbconvert_exporter": "python",
      "pygments_lexer": "ipython3",
      "version": "3.7.3"
    },
    "colab": {
      "name": "ANOVA_phan_2.ipynb",
      "provenance": [],
      "collapsed_sections": [],
      "include_colab_link": true
    }
  },
  "cells": [
    {
      "cell_type": "markdown",
      "metadata": {
        "id": "view-in-github",
        "colab_type": "text"
      },
      "source": [
        "<a href=\"https://colab.research.google.com/github/thinh2904/Phan_Tich_Du_Lieu/blob/main/ANOVA_phan_2.ipynb\" target=\"_parent\"><img src=\"https://colab.research.google.com/assets/colab-badge.svg\" alt=\"Open In Colab\"/></a>"
      ]
    },
    {
      "cell_type": "markdown",
      "metadata": {
        "id": "Cp-MUDdfPBR-"
      },
      "source": [
        "PHÂN TÍCH ANOVA MỘT CHIỀU\n",
        "\n",
        "Phân tích ANOVA chấp nhận các giả định sau:\n",
        "\n",
        "(1) Tất cả các nhóm đều độc lập với nhau\n",
        "\n",
        "(2) Dữ liệu của mỗi nhóm đều tuân theo phân phối chuẩn. Tính chất này có thể được kiểm định bằng phương pháp Shapiro-Wilks.\n",
        "\n",
        "(3) Phương sai (variance) của các nhóm bằng nhau. Tính chất này có thể được kiểm định bằng phương pháp kiểm định Bartlett hay Levene.\n",
        "\n",
        "Nếu dữ liệu hiện có thỏa mãn các tính chất trên thì chúng ta mới tiến hành kiểm định ANOVA. Do vậy trước khi tiến hành kiểm định ANOVA, chúng ta cần thực hiện kiểm tra tập dữ liệu cần thỏa mãn 3 tính chất trên.\n",
        "    "
      ]
    },
    {
      "cell_type": "code",
      "metadata": {
        "id": "9w5DYKNpS2Zf"
      },
      "source": [
        "import numpy as np\n",
        "import pandas as pd\n",
        "import random\n",
        "import scipy\n",
        "from scipy import stats"
      ],
      "execution_count": 1,
      "outputs": []
    },
    {
      "cell_type": "code",
      "metadata": {
        "id": "V_UNJLn9PBSE",
        "colab": {
          "base_uri": "https://localhost:8080/"
        },
        "outputId": "e8d4ed93-9ca5-4d2a-b15a-d70ed89af8fb"
      },
      "source": [
        "sample_1 = np.random.normal(20, 0.1, 100)\n",
        "sample_1[:10]"
      ],
      "execution_count": 2,
      "outputs": [
        {
          "output_type": "execute_result",
          "data": {
            "text/plain": [
              "array([19.94070007, 20.08872222, 19.94475577, 19.94157238, 20.0318361 ,\n",
              "       19.99267251, 20.04116118, 20.15733442, 19.86957895, 19.87869328])"
            ]
          },
          "metadata": {
            "tags": []
          },
          "execution_count": 2
        }
      ]
    },
    {
      "cell_type": "code",
      "metadata": {
        "id": "-fbgeRm7PBSF",
        "colab": {
          "base_uri": "https://localhost:8080/"
        },
        "outputId": "caebfd09-b25b-4607-90c5-342586d7708c"
      },
      "source": [
        "sample_2 = s = np.random.poisson(20, 100)\n",
        "sample_2[:10]"
      ],
      "execution_count": 3,
      "outputs": [
        {
          "output_type": "execute_result",
          "data": {
            "text/plain": [
              "array([16, 24, 21, 13, 29, 15, 24, 21, 15, 18])"
            ]
          },
          "metadata": {
            "tags": []
          },
          "execution_count": 3
        }
      ]
    },
    {
      "cell_type": "markdown",
      "metadata": {
        "id": "lvQRyJi6PBSF"
      },
      "source": [
        "Hãy tham khảo các hướng dẫn sau để kiểm định tính chất thứ 2 bằng phương pháp Shapiro-Wilks đối với sample_1 và sample_2\n",
        "\n",
        "(1) [Tài liệu tham khảo scipy](https://docs.scipy.org/doc/scipy/reference/generated/scipy.stats.shapiro.html)\n",
        "\n",
        "(2) [Hướng dẫn cụ thể của statology](https://www.statology.org/shapiro-wilk-test-python/)"
      ]
    },
    {
      "cell_type": "markdown",
      "metadata": {
        "id": "kUyNAbCR_5xX"
      },
      "source": [
        "**Xây dựng giả thuyết về phân phối chuẩn**\n",
        "\n",
        "*H0*: Mẫu tuân theo phân phối chuẩn\n",
        "\n",
        "*Ha*: Mẫu không tuân theo phân phối chuẩn"
      ]
    },
    {
      "cell_type": "markdown",
      "metadata": {
        "id": "JrwTX0zZjD8S"
      },
      "source": [
        "Cách 1:"
      ]
    },
    {
      "cell_type": "code",
      "metadata": {
        "id": "wiM7UfpYUg-G"
      },
      "source": [
        "from scipy.stats import shapiro"
      ],
      "execution_count": 4,
      "outputs": []
    },
    {
      "cell_type": "code",
      "metadata": {
        "colab": {
          "base_uri": "https://localhost:8080/"
        },
        "id": "jdoeHekuUkVL",
        "outputId": "4120afb3-ec58-400d-f6e2-c4eea6696474"
      },
      "source": [
        "t1, p1 = shapiro(sample_1)\n",
        "if p1 > 0.05:\n",
        "  print(\"Chưa đủ bằng chứng thống kê để bác bỏ H0, Điều này ngụ ý Mẫu tuân theo phân phối chuẩn\")\n",
        "else:\n",
        "  print(\"Có bằng chứng thống kê để bác bỏ H0, Điều này ngụ ý Mẫu tuân không tuân theo phân phối chuẩn\")"
      ],
      "execution_count": 5,
      "outputs": [
        {
          "output_type": "stream",
          "text": [
            "Chưa đủ bằng chứng thống kê để bác bỏ H0, Điều này ngụ ý Mẫu tuân theo phân phối chuẩn\n"
          ],
          "name": "stdout"
        }
      ]
    },
    {
      "cell_type": "code",
      "metadata": {
        "colab": {
          "base_uri": "https://localhost:8080/"
        },
        "id": "vRrvry4xUo9d",
        "outputId": "cd6848c1-c505-4b4a-ec20-8275402a9ec5"
      },
      "source": [
        "t2, p2 = shapiro(sample_2)\n",
        "if p2 > 0.05:\n",
        "  print(\"Chưa đủ bằng chứng thống kê để bác bỏ H0, Điều này ngụ ý Mẫu tuân theo phân phối chuẩn\")\n",
        "else:\n",
        "  print(\"Có bằng chứng thống kê để bác bỏ H0, Điều này ngụ ý Mẫu tuân không tuân theo phân phối chuẩn\")"
      ],
      "execution_count": 6,
      "outputs": [
        {
          "output_type": "stream",
          "text": [
            "Chưa đủ bằng chứng thống kê để bác bỏ H0, Điều này ngụ ý Mẫu tuân theo phân phối chuẩn\n"
          ],
          "name": "stdout"
        }
      ]
    },
    {
      "cell_type": "markdown",
      "metadata": {
        "id": "B8FVd1EDjacK"
      },
      "source": [
        "Cách 2:"
      ]
    },
    {
      "cell_type": "code",
      "metadata": {
        "id": "lP0gyAHSPBSF",
        "colab": {
          "base_uri": "https://localhost:8080/"
        },
        "outputId": "5b8d0d1e-e797-40af-c973-98ab1cc2c270"
      },
      "source": [
        "t1, p1 = scipy.stats.shapiro(sample_1)\n",
        "if p1 > 0.05:\n",
        "  print(\"Chưa đủ bằng chứng thống kê để bác bỏ H0, Điều này ngụ ý Mẫu tuân theo phân phối chuẩn\")\n",
        "else:\n",
        "  print(\"Có bằng chứng thống kê để bác bỏ H0, Điều này ngụ ý Mẫu tuân không tuân theo phân phối chuẩn\")"
      ],
      "execution_count": 7,
      "outputs": [
        {
          "output_type": "stream",
          "text": [
            "Chưa đủ bằng chứng thống kê để bác bỏ H0, Điều này ngụ ý Mẫu tuân theo phân phối chuẩn\n"
          ],
          "name": "stdout"
        }
      ]
    },
    {
      "cell_type": "code",
      "metadata": {
        "colab": {
          "base_uri": "https://localhost:8080/"
        },
        "id": "P5n2NYXSW2kY",
        "outputId": "bf020c4c-2a85-4ec9-bf61-0a135955fa35"
      },
      "source": [
        "t2, p2 = scipy.stats.shapiro(sample_1)\n",
        "if p2 > 0.05:\n",
        "  print(\"Chưa đủ bằng chứng thống kê để bác bỏ H0, Điều này ngụ ý Mẫu tuân theo phân phối chuẩn\")\n",
        "else:\n",
        "  print(\"Có bằng chứng thống kê để bác bỏ H0, Điều này ngụ ý Mẫu tuân không tuân theo phân phối chuẩn\")"
      ],
      "execution_count": 8,
      "outputs": [
        {
          "output_type": "stream",
          "text": [
            "Chưa đủ bằng chứng thống kê để bác bỏ H0, Điều này ngụ ý Mẫu tuân theo phân phối chuẩn\n"
          ],
          "name": "stdout"
        }
      ]
    },
    {
      "cell_type": "markdown",
      "metadata": {
        "id": "7bLmCIKpPBSF"
      },
      "source": [
        "Hãy tham khảo các hướng dẫn sau để kiểm định tính chất thứ 3 bằng kiểm định Bartlett hoặc kiểm định Levene\n",
        "\n",
        "(1) [Hướng dẫn tổng quát](https://www.marsja.se/levenes-bartletts-test-of-equality-homogeneity-of-variance-in-python/)\n",
        "\n",
        "(2) [Hướng dẫn ở stackoverflow](https://stackoverflow.com/questions/36141254/how-to-test-for-homoscedasticity-having-the-same-population-variance-in-python)\n",
        "\n",
        "(3) Sử dụng bài giảng về kiểm định Bartlett và Levene ở buổi trước"
      ]
    },
    {
      "cell_type": "markdown",
      "metadata": {
        "id": "QGk07MNLjog5"
      },
      "source": [
        "Lấy dữ liệu từ bài trước, ta có:"
      ]
    },
    {
      "cell_type": "code",
      "metadata": {
        "id": "ixCux9VSjvYt"
      },
      "source": [
        "f = {'Business Majors': np.random.normal(random.uniform(2, 5), 0.1, 35),\n",
        "     'Englissh Majors': np.random.normal(random.uniform(2, 5), 0.2, 35),\n",
        "     'Math Majors': np.random.normal(random.uniform(2, 5), 0.15, 35),\n",
        "     'Psych Majors': np.random.normal(random.uniform(2, 5), 0.1, 35)}\n",
        "\n",
        "df3 = pd.DataFrame(f)"
      ],
      "execution_count": 17,
      "outputs": []
    },
    {
      "cell_type": "code",
      "metadata": {
        "colab": {
          "base_uri": "https://localhost:8080/",
          "height": 195
        },
        "id": "q7r6A7z0j2eE",
        "outputId": "e25635ec-32f6-4915-9678-67416f2bb2e2"
      },
      "source": [
        "df3.head()"
      ],
      "execution_count": 18,
      "outputs": [
        {
          "output_type": "execute_result",
          "data": {
            "text/html": [
              "<div>\n",
              "<style scoped>\n",
              "    .dataframe tbody tr th:only-of-type {\n",
              "        vertical-align: middle;\n",
              "    }\n",
              "\n",
              "    .dataframe tbody tr th {\n",
              "        vertical-align: top;\n",
              "    }\n",
              "\n",
              "    .dataframe thead th {\n",
              "        text-align: right;\n",
              "    }\n",
              "</style>\n",
              "<table border=\"1\" class=\"dataframe\">\n",
              "  <thead>\n",
              "    <tr style=\"text-align: right;\">\n",
              "      <th></th>\n",
              "      <th>Business Majors</th>\n",
              "      <th>Englissh Majors</th>\n",
              "      <th>Math Majors</th>\n",
              "      <th>Psych Majors</th>\n",
              "    </tr>\n",
              "  </thead>\n",
              "  <tbody>\n",
              "    <tr>\n",
              "      <th>0</th>\n",
              "      <td>3.383371</td>\n",
              "      <td>4.150050</td>\n",
              "      <td>5.261728</td>\n",
              "      <td>4.073461</td>\n",
              "    </tr>\n",
              "    <tr>\n",
              "      <th>1</th>\n",
              "      <td>3.530638</td>\n",
              "      <td>4.416371</td>\n",
              "      <td>5.054068</td>\n",
              "      <td>4.138657</td>\n",
              "    </tr>\n",
              "    <tr>\n",
              "      <th>2</th>\n",
              "      <td>3.434529</td>\n",
              "      <td>4.488202</td>\n",
              "      <td>4.885217</td>\n",
              "      <td>4.179016</td>\n",
              "    </tr>\n",
              "    <tr>\n",
              "      <th>3</th>\n",
              "      <td>3.476868</td>\n",
              "      <td>4.564582</td>\n",
              "      <td>4.849320</td>\n",
              "      <td>4.210947</td>\n",
              "    </tr>\n",
              "    <tr>\n",
              "      <th>4</th>\n",
              "      <td>3.582658</td>\n",
              "      <td>4.405059</td>\n",
              "      <td>4.882180</td>\n",
              "      <td>4.127340</td>\n",
              "    </tr>\n",
              "  </tbody>\n",
              "</table>\n",
              "</div>"
            ],
            "text/plain": [
              "   Business Majors  Englissh Majors  Math Majors  Psych Majors\n",
              "0         3.383371         4.150050     5.261728      4.073461\n",
              "1         3.530638         4.416371     5.054068      4.138657\n",
              "2         3.434529         4.488202     4.885217      4.179016\n",
              "3         3.476868         4.564582     4.849320      4.210947\n",
              "4         3.582658         4.405059     4.882180      4.127340"
            ]
          },
          "metadata": {
            "tags": []
          },
          "execution_count": 18
        }
      ]
    },
    {
      "cell_type": "code",
      "metadata": {
        "id": "aAnn31w1lQM1"
      },
      "source": [
        "a = df3['Business Majors']\n",
        "b = df3['Englissh Majors']\n",
        "c = df3['Math Majors']\n",
        "d = df3['Psych Majors']"
      ],
      "execution_count": 19,
      "outputs": []
    },
    {
      "cell_type": "markdown",
      "metadata": {
        "id": "1thIM5BmAtL_"
      },
      "source": [
        "**Phát biểu giả thuyết về kiểm định phương sai**\n",
        "\n",
        "*H0*: Phương sai các mẫu bằng nhau\n",
        "\n",
        "*Ha*: Tồn tại ít nhất một cặp mẫu có phương sai khác nhau"
      ]
    },
    {
      "cell_type": "markdown",
      "metadata": {
        "id": "a59VkWdsjlOP"
      },
      "source": [
        "Cách 1:"
      ]
    },
    {
      "cell_type": "code",
      "metadata": {
        "id": "8bEpF16tZFGH"
      },
      "source": [
        "from scipy.stats import bartlett\n",
        "from scipy.stats import levene"
      ],
      "execution_count": 20,
      "outputs": []
    },
    {
      "cell_type": "code",
      "metadata": {
        "colab": {
          "base_uri": "https://localhost:8080/"
        },
        "id": "v6wtmmVVlVXA",
        "outputId": "2943a568-794a-4a16-eff2-60f09c141391"
      },
      "source": [
        "stat, p = bartlett(a, b, c, d)\n",
        "print('p_value = ', p)\n",
        "if p < 0.05:\n",
        "  print(\"Chưa đủ bằng chứng thống kê để bác bỏ giả thuyết H0, Điều này ngụ ý rằng phương sai các mẫu bằng nhau\")\n",
        "else:\n",
        "  print(\"Có bằng chứng thống kê để bác bỏ giả thuyết H0, Điều này ngụ ý rằng Tồn tại ít nhất một cặp mẫu có phương sai khác nhau\")"
      ],
      "execution_count": 21,
      "outputs": [
        {
          "output_type": "stream",
          "text": [
            "p_value =  0.0009059416387049342\n",
            "Chưa đủ bằng chứng thống kê để bác bỏ giả thuyết H0, Điều này ngụ ý rằng phương sai các mẫu bằng nhau\n"
          ],
          "name": "stdout"
        }
      ]
    },
    {
      "cell_type": "code",
      "metadata": {
        "colab": {
          "base_uri": "https://localhost:8080/"
        },
        "id": "Mfde32njZHHL",
        "outputId": "088b1c1a-d20f-4f83-f8d1-3be5b8041c8e"
      },
      "source": [
        "stat, p = levene(a, b, c, d)\n",
        "print('p_value = ', p)\n",
        "if p < 0.05:\n",
        "  print(\"Chưa đủ bằng chứng thống kê để bác bỏ giả thuyết H0, Điều này ngụ ý rằng phương sai các mẫu bằng nhau\")\n",
        "else:\n",
        "  print(\"Có bằng chứng thống kê để bác bỏ giả thuyết H0, Điều này ngụ ý rằng Tồn tại ít nhất một cặp mẫu có phương sai khác nhau\")"
      ],
      "execution_count": 22,
      "outputs": [
        {
          "output_type": "stream",
          "text": [
            "p_value =  0.005893956060878087\n",
            "Chưa đủ bằng chứng thống kê để bác bỏ giả thuyết H0, Điều này ngụ ý rằng phương sai các mẫu bằng nhau\n"
          ],
          "name": "stdout"
        }
      ]
    },
    {
      "cell_type": "markdown",
      "metadata": {
        "id": "l7WnCD3llieh"
      },
      "source": [
        "Cách 2:"
      ]
    },
    {
      "cell_type": "code",
      "metadata": {
        "id": "S-5NO1pGPBSG",
        "colab": {
          "base_uri": "https://localhost:8080/"
        },
        "outputId": "c352da72-3963-4873-87cb-18c96b3790e7"
      },
      "source": [
        "s, p =scipy.stats.bartlett(a, b, c, d)\n",
        "print('p_value = ', p)\n",
        "if p < 0.05:\n",
        "  print(\"Chưa đủ bằng chứng thống kê để bác bỏ giả thuyết H0, Điều này ngụ ý rằng phương sai các mẫu bằng nhau\")\n",
        "else:\n",
        "  print(\"Có bằng chứng thống kê để bác bỏ giả thuyết H0, Điều này ngụ ý rằng Tồn tại ít nhất một cặp mẫu có phương sai khác nhau\")"
      ],
      "execution_count": 23,
      "outputs": [
        {
          "output_type": "stream",
          "text": [
            "p_value =  0.0009059416387049342\n",
            "Chưa đủ bằng chứng thống kê để bác bỏ giả thuyết H0, Điều này ngụ ý rằng phương sai các mẫu bằng nhau\n"
          ],
          "name": "stdout"
        }
      ]
    },
    {
      "cell_type": "code",
      "metadata": {
        "id": "F0cqoXonPBSG",
        "colab": {
          "base_uri": "https://localhost:8080/"
        },
        "outputId": "926c7fd8-a4f5-40a1-8c89-7fe0bab02a2e"
      },
      "source": [
        "s, p = scipy.stats.levene(a, b, c, d)\n",
        "print('p_value = ', p)\n",
        "if p < 0.05:\n",
        "  print(\"Chưa đủ bằng chứng thống kê để bác bỏ giả thuyết H0, Điều này ngụ ý rằng phương sai các mẫu bằng nhau\")\n",
        "else:\n",
        "  print(\"Có bằng chứng thống kê để bác bỏ giả thuyết H0, Điều này ngụ ý rằng Tồn tại ít nhất một cặp mẫu có phương sai khác nhau\")"
      ],
      "execution_count": 24,
      "outputs": [
        {
          "output_type": "stream",
          "text": [
            "p_value =  0.005893956060878087\n",
            "Chưa đủ bằng chứng thống kê để bác bỏ giả thuyết H0, Điều này ngụ ý rằng phương sai các mẫu bằng nhau\n"
          ],
          "name": "stdout"
        }
      ]
    }
  ]
}