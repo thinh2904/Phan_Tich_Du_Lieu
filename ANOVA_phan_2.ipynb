{
  "nbformat": 4,
  "nbformat_minor": 0,
  "metadata": {
    "kernelspec": {
      "display_name": "Python 3",
      "language": "python",
      "name": "python3"
    },
    "language_info": {
      "codemirror_mode": {
        "name": "ipython",
        "version": 3
      },
      "file_extension": ".py",
      "mimetype": "text/x-python",
      "name": "python",
      "nbconvert_exporter": "python",
      "pygments_lexer": "ipython3",
      "version": "3.7.3"
    },
    "colab": {
      "name": "ANOVA_phan_2.ipynb",
      "provenance": [],
      "collapsed_sections": [],
      "include_colab_link": true
    }
  },
  "cells": [
    {
      "cell_type": "markdown",
      "metadata": {
        "id": "view-in-github",
        "colab_type": "text"
      },
      "source": [
        "<a href=\"https://colab.research.google.com/github/thinh2904/Phan_Tich_Du_Lieu/blob/main/ANOVA_phan_2.ipynb\" target=\"_parent\"><img src=\"https://colab.research.google.com/assets/colab-badge.svg\" alt=\"Open In Colab\"/></a>"
      ]
    },
    {
      "cell_type": "markdown",
      "metadata": {
        "id": "Cp-MUDdfPBR-"
      },
      "source": [
        "PHÂN TÍCH ANOVA MỘT CHIỀU\n",
        "\n",
        "Phân tích ANOVA chấp nhận các giả định sau:\n",
        "\n",
        "(1) Tất cả các nhóm đều độc lập với nhau\n",
        "\n",
        "(2) Dữ liệu của mỗi nhóm đều tuân theo phân phối chuẩn. Tính chất này có thể được kiểm định bằng phương pháp Shapiro-Wilks.\n",
        "\n",
        "(3) Phương sai (variance) của các nhóm bằng nhau. Tính chất này có thể được kiểm định bằng phương pháp kiểm định Bartlett hay Levene.\n",
        "\n",
        "Nếu dữ liệu hiện có thỏa mãn các tính chất trên thì chúng ta mới tiến hành kiểm định ANOVA. Do vậy trước khi tiến hành kiểm định ANOVA, chúng ta cần thực hiện kiểm tra tập dữ liệu cần thỏa mãn 3 tính chất trên.\n",
        "    "
      ]
    },
    {
      "cell_type": "code",
      "metadata": {
        "id": "9w5DYKNpS2Zf"
      },
      "source": [
        "import numpy as np\n",
        "import pandas as pd\n",
        "import random\n",
        "import scipy\n",
        "from scipy import stats"
      ],
      "execution_count": 1,
      "outputs": []
    },
    {
      "cell_type": "code",
      "metadata": {
        "id": "V_UNJLn9PBSE",
        "colab": {
          "base_uri": "https://localhost:8080/"
        },
        "outputId": "3301c3bf-8a49-411d-d37c-1bf3491ea35a"
      },
      "source": [
        "sample_1 = np.random.normal(20, 0.1, 100)\n",
        "sample_1[:10]"
      ],
      "execution_count": 2,
      "outputs": [
        {
          "output_type": "execute_result",
          "data": {
            "text/plain": [
              "array([19.9312286 , 19.84703372, 19.90000039, 20.12371425, 20.11625798,\n",
              "       20.03848762, 19.9516544 , 19.96050588, 19.8067986 , 20.20987578])"
            ]
          },
          "metadata": {
            "tags": []
          },
          "execution_count": 2
        }
      ]
    },
    {
      "cell_type": "code",
      "metadata": {
        "id": "-fbgeRm7PBSF",
        "colab": {
          "base_uri": "https://localhost:8080/"
        },
        "outputId": "7bbea32a-537e-40be-a4b9-bfbd14cbeb12"
      },
      "source": [
        "sample_2 = s = np.random.poisson(20, 100)\n",
        "sample_2[:10]"
      ],
      "execution_count": 3,
      "outputs": [
        {
          "output_type": "execute_result",
          "data": {
            "text/plain": [
              "array([12, 16, 19, 16, 27, 26, 26, 22, 26, 11])"
            ]
          },
          "metadata": {
            "tags": []
          },
          "execution_count": 3
        }
      ]
    },
    {
      "cell_type": "markdown",
      "metadata": {
        "id": "lvQRyJi6PBSF"
      },
      "source": [
        "Hãy tham khảo các hướng dẫn sau để kiểm định tính chất thứ 2 bằng phương pháp Shapiro-Wilks đối với sample_1 và sample_2\n",
        "\n",
        "(1) [Tài liệu tham khảo scipy](https://docs.scipy.org/doc/scipy/reference/generated/scipy.stats.shapiro.html)\n",
        "\n",
        "(2) [Hướng dẫn cụ thể của statology](https://www.statology.org/shapiro-wilk-test-python/)"
      ]
    },
    {
      "cell_type": "markdown",
      "metadata": {
        "id": "kUyNAbCR_5xX"
      },
      "source": [
        "**Xây dựng giả thuyết về phân phối chuẩn**\n",
        "\n",
        "*H0*: Mẫu tuân theo phân phối chuẩn\n",
        "\n",
        "*Ha*: Mẫu không tuân theo phân phối chuẩn"
      ]
    },
    {
      "cell_type": "markdown",
      "metadata": {
        "id": "JrwTX0zZjD8S"
      },
      "source": [
        "Cách 1:"
      ]
    },
    {
      "cell_type": "code",
      "metadata": {
        "id": "wiM7UfpYUg-G"
      },
      "source": [
        "from scipy.stats import shapiro"
      ],
      "execution_count": 4,
      "outputs": []
    },
    {
      "cell_type": "code",
      "metadata": {
        "colab": {
          "base_uri": "https://localhost:8080/"
        },
        "id": "jdoeHekuUkVL",
        "outputId": "ae9c8a28-cd6c-45b9-9319-cc5b56d9172f"
      },
      "source": [
        "t1, p1 = shapiro(sample_1)\n",
        "if p1 > 0.05:\n",
        "  print(\"Chưa đủ bằng chứng thống kê để bác bỏ H0, Điều này ngụ ý Mẫu tuân theo phân phối chuẩn\")\n",
        "else:\n",
        "  print(\"Có bằng chứng thống kê để bác bỏ H0, Điều này ngụ ý Mẫu tuân không tuân theo phân phối chuẩn\")"
      ],
      "execution_count": 5,
      "outputs": [
        {
          "output_type": "stream",
          "text": [
            "Chưa đủ bằng chứng thống kê để bác bỏ H0, Điều này ngụ ý Mẫu tuân theo phân phối chuẩn\n"
          ],
          "name": "stdout"
        }
      ]
    },
    {
      "cell_type": "code",
      "metadata": {
        "colab": {
          "base_uri": "https://localhost:8080/"
        },
        "id": "vRrvry4xUo9d",
        "outputId": "bbe7f730-e5dd-4e09-82f0-7106b5ee291a"
      },
      "source": [
        "t2, p2 = shapiro(sample_2)\n",
        "if p2 > 0.05:\n",
        "  print(\"Chưa đủ bằng chứng thống kê để bác bỏ H0, Điều này ngụ ý Mẫu tuân theo phân phối chuẩn\")\n",
        "else:\n",
        "  print(\"Có bằng chứng thống kê để bác bỏ H0, Điều này ngụ ý Mẫu tuân không tuân theo phân phối chuẩn\")"
      ],
      "execution_count": 6,
      "outputs": [
        {
          "output_type": "stream",
          "text": [
            "Chưa đủ bằng chứng thống kê để bác bỏ H0, Điều này ngụ ý Mẫu tuân theo phân phối chuẩn\n"
          ],
          "name": "stdout"
        }
      ]
    },
    {
      "cell_type": "markdown",
      "metadata": {
        "id": "B8FVd1EDjacK"
      },
      "source": [
        "Cách 2:"
      ]
    },
    {
      "cell_type": "code",
      "metadata": {
        "id": "lP0gyAHSPBSF",
        "colab": {
          "base_uri": "https://localhost:8080/"
        },
        "outputId": "dd26addb-c000-4860-8953-055ff36640a1"
      },
      "source": [
        "t1, p1 = scipy.stats.shapiro(sample_1)\n",
        "if p1 > 0.05:\n",
        "  print(\"Chưa đủ bằng chứng thống kê để bác bỏ H0, Điều này ngụ ý Mẫu tuân theo phân phối chuẩn\")\n",
        "else:\n",
        "  print(\"Có bằng chứng thống kê để bác bỏ H0, Điều này ngụ ý Mẫu tuân không tuân theo phân phối chuẩn\")"
      ],
      "execution_count": 7,
      "outputs": [
        {
          "output_type": "stream",
          "text": [
            "Chưa đủ bằng chứng thống kê để bác bỏ H0, Điều này ngụ ý Mẫu tuân theo phân phối chuẩn\n"
          ],
          "name": "stdout"
        }
      ]
    },
    {
      "cell_type": "code",
      "metadata": {
        "colab": {
          "base_uri": "https://localhost:8080/"
        },
        "id": "P5n2NYXSW2kY",
        "outputId": "8086dab1-f75a-4724-df5c-2f6cb1d4a397"
      },
      "source": [
        "t2, p2 = scipy.stats.shapiro(sample_1)\n",
        "if p2 > 0.05:\n",
        "  print(\"Chưa đủ bằng chứng thống kê để bác bỏ H0, Điều này ngụ ý Mẫu tuân theo phân phối chuẩn\")\n",
        "else:\n",
        "  print(\"Có bằng chứng thống kê để bác bỏ H0, Điều này ngụ ý Mẫu tuân không tuân theo phân phối chuẩn\")"
      ],
      "execution_count": 8,
      "outputs": [
        {
          "output_type": "stream",
          "text": [
            "Chưa đủ bằng chứng thống kê để bác bỏ H0, Điều này ngụ ý Mẫu tuân theo phân phối chuẩn\n"
          ],
          "name": "stdout"
        }
      ]
    },
    {
      "cell_type": "markdown",
      "metadata": {
        "id": "7bLmCIKpPBSF"
      },
      "source": [
        "Hãy tham khảo các hướng dẫn sau để kiểm định tính chất thứ 3 bằng kiểm định Bartlett hoặc kiểm định Levene\n",
        "\n",
        "(1) [Hướng dẫn tổng quát](https://www.marsja.se/levenes-bartletts-test-of-equality-homogeneity-of-variance-in-python/)\n",
        "\n",
        "(2) [Hướng dẫn ở stackoverflow](https://stackoverflow.com/questions/36141254/how-to-test-for-homoscedasticity-having-the-same-population-variance-in-python)\n",
        "\n",
        "(3) Sử dụng bài giảng về kiểm định Bartlett và Levene ở buổi trước"
      ]
    },
    {
      "cell_type": "markdown",
      "metadata": {
        "id": "QGk07MNLjog5"
      },
      "source": [
        "Lấy dữ liệu từ bài trước, ta có:"
      ]
    },
    {
      "cell_type": "code",
      "metadata": {
        "id": "ixCux9VSjvYt"
      },
      "source": [
        "f = {'Business Majors': np.random.normal(random.uniform(2, 5), 0.1, 35),\n",
        "     'Englissh Majors': np.random.normal(random.uniform(2, 5), 0.2, 35),\n",
        "     'Math Majors': np.random.normal(random.uniform(2, 5), 0.15, 35),\n",
        "     'Psych Majors': np.random.normal(random.uniform(2, 5), 0.1, 35)}\n",
        "\n",
        "df3 = pd.DataFrame(f)"
      ],
      "execution_count": 9,
      "outputs": []
    },
    {
      "cell_type": "code",
      "metadata": {
        "colab": {
          "base_uri": "https://localhost:8080/",
          "height": 195
        },
        "id": "q7r6A7z0j2eE",
        "outputId": "0f162959-5347-4285-a6b9-f0029ece1c4f"
      },
      "source": [
        "df3.head()"
      ],
      "execution_count": 10,
      "outputs": [
        {
          "output_type": "execute_result",
          "data": {
            "text/html": [
              "<div>\n",
              "<style scoped>\n",
              "    .dataframe tbody tr th:only-of-type {\n",
              "        vertical-align: middle;\n",
              "    }\n",
              "\n",
              "    .dataframe tbody tr th {\n",
              "        vertical-align: top;\n",
              "    }\n",
              "\n",
              "    .dataframe thead th {\n",
              "        text-align: right;\n",
              "    }\n",
              "</style>\n",
              "<table border=\"1\" class=\"dataframe\">\n",
              "  <thead>\n",
              "    <tr style=\"text-align: right;\">\n",
              "      <th></th>\n",
              "      <th>Business Majors</th>\n",
              "      <th>Englissh Majors</th>\n",
              "      <th>Math Majors</th>\n",
              "      <th>Psych Majors</th>\n",
              "    </tr>\n",
              "  </thead>\n",
              "  <tbody>\n",
              "    <tr>\n",
              "      <th>0</th>\n",
              "      <td>3.209330</td>\n",
              "      <td>2.544323</td>\n",
              "      <td>3.756898</td>\n",
              "      <td>2.220629</td>\n",
              "    </tr>\n",
              "    <tr>\n",
              "      <th>1</th>\n",
              "      <td>3.236522</td>\n",
              "      <td>2.643500</td>\n",
              "      <td>3.592822</td>\n",
              "      <td>2.154294</td>\n",
              "    </tr>\n",
              "    <tr>\n",
              "      <th>2</th>\n",
              "      <td>3.272900</td>\n",
              "      <td>2.254010</td>\n",
              "      <td>4.045657</td>\n",
              "      <td>2.141202</td>\n",
              "    </tr>\n",
              "    <tr>\n",
              "      <th>3</th>\n",
              "      <td>3.291928</td>\n",
              "      <td>2.612689</td>\n",
              "      <td>4.018970</td>\n",
              "      <td>2.281321</td>\n",
              "    </tr>\n",
              "    <tr>\n",
              "      <th>4</th>\n",
              "      <td>3.185344</td>\n",
              "      <td>2.533589</td>\n",
              "      <td>3.648895</td>\n",
              "      <td>2.267046</td>\n",
              "    </tr>\n",
              "  </tbody>\n",
              "</table>\n",
              "</div>"
            ],
            "text/plain": [
              "   Business Majors  Englissh Majors  Math Majors  Psych Majors\n",
              "0         3.209330         2.544323     3.756898      2.220629\n",
              "1         3.236522         2.643500     3.592822      2.154294\n",
              "2         3.272900         2.254010     4.045657      2.141202\n",
              "3         3.291928         2.612689     4.018970      2.281321\n",
              "4         3.185344         2.533589     3.648895      2.267046"
            ]
          },
          "metadata": {
            "tags": []
          },
          "execution_count": 10
        }
      ]
    },
    {
      "cell_type": "code",
      "metadata": {
        "id": "aAnn31w1lQM1"
      },
      "source": [
        "a = df3['Business Majors']\n",
        "b = df3['Englissh Majors']\n",
        "c = df3['Math Majors']\n",
        "d = df3['Psych Majors']"
      ],
      "execution_count": 11,
      "outputs": []
    },
    {
      "cell_type": "markdown",
      "metadata": {
        "id": "1thIM5BmAtL_"
      },
      "source": [
        "**Phát biểu giả thuyết về kiểm định phương sai**\n",
        "\n",
        "*H0*: Phương sai các mẫu bằng nhau\n",
        "\n",
        "*Ha*: Tồn tại ít nhất một cặp mẫu có phương sai khác nhau"
      ]
    },
    {
      "cell_type": "markdown",
      "metadata": {
        "id": "a59VkWdsjlOP"
      },
      "source": [
        "Cách 1:"
      ]
    },
    {
      "cell_type": "code",
      "metadata": {
        "id": "8bEpF16tZFGH"
      },
      "source": [
        "from scipy.stats import bartlett\n",
        "from scipy.stats import levene"
      ],
      "execution_count": 12,
      "outputs": []
    },
    {
      "cell_type": "code",
      "metadata": {
        "colab": {
          "base_uri": "https://localhost:8080/"
        },
        "id": "v6wtmmVVlVXA",
        "outputId": "8a80e371-59e7-437b-b960-4efbe5e84b17"
      },
      "source": [
        "stat, p = bartlett(a, b, c, d)\n",
        "print('p_value = ', p)\n",
        "if p > 0.05:\n",
        "  print(\"Chưa đủ bằng chứng thống kê để bác bỏ giả thuyết H0, Điều này ngụ ý rằng phương sai các mẫu bằng nhau\")\n",
        "else:\n",
        "  print(\"Có bằng chứng thống kê để bác bỏ giả thuyết H0, Điều này ngụ ý rằng Tồn tại ít nhất một cặp mẫu có phương sai khác nhau\")"
      ],
      "execution_count": 13,
      "outputs": [
        {
          "output_type": "stream",
          "text": [
            "p_value =  0.00012627730943703892\n",
            "Có bằng chứng thống kê để bác bỏ giả thuyết H0, Điều này ngụ ý rằng Tồn tại ít nhất một cặp mẫu có phương sai khác nhau\n"
          ],
          "name": "stdout"
        }
      ]
    },
    {
      "cell_type": "code",
      "metadata": {
        "colab": {
          "base_uri": "https://localhost:8080/"
        },
        "id": "Mfde32njZHHL",
        "outputId": "2c69f01a-1a01-4e12-a171-3006e128b0a6"
      },
      "source": [
        "stat, p = levene(a, b, c, d)\n",
        "print('p_value = ', p)\n",
        "if p > 0.05:\n",
        "  print(\"Chưa đủ bằng chứng thống kê để bác bỏ giả thuyết H0, Điều này ngụ ý rằng phương sai các mẫu bằng nhau\")\n",
        "else:\n",
        "  print(\"Có bằng chứng thống kê để bác bỏ giả thuyết H0, Điều này ngụ ý rằng Tồn tại ít nhất một cặp mẫu có phương sai khác nhau\")"
      ],
      "execution_count": 14,
      "outputs": [
        {
          "output_type": "stream",
          "text": [
            "p_value =  0.0010023035471712338\n",
            "Có bằng chứng thống kê để bác bỏ giả thuyết H0, Điều này ngụ ý rằng Tồn tại ít nhất một cặp mẫu có phương sai khác nhau\n"
          ],
          "name": "stdout"
        }
      ]
    },
    {
      "cell_type": "markdown",
      "metadata": {
        "id": "l7WnCD3llieh"
      },
      "source": [
        "Cách 2:"
      ]
    },
    {
      "cell_type": "code",
      "metadata": {
        "id": "S-5NO1pGPBSG",
        "colab": {
          "base_uri": "https://localhost:8080/"
        },
        "outputId": "71de770f-49da-4c6a-ce3f-41894f8c91b0"
      },
      "source": [
        "s, p =scipy.stats.bartlett(a, b, c, d)\n",
        "print('p_value = ', p)\n",
        "if p > 0.05:\n",
        "  print(\"Chưa đủ bằng chứng thống kê để bác bỏ giả thuyết H0, Điều này ngụ ý rằng phương sai các mẫu bằng nhau\")\n",
        "else:\n",
        "  print(\"Có bằng chứng thống kê để bác bỏ giả thuyết H0, Điều này ngụ ý rằng Tồn tại ít nhất một cặp mẫu có phương sai khác nhau\")"
      ],
      "execution_count": 15,
      "outputs": [
        {
          "output_type": "stream",
          "text": [
            "p_value =  0.00012627730943703892\n",
            "Có bằng chứng thống kê để bác bỏ giả thuyết H0, Điều này ngụ ý rằng Tồn tại ít nhất một cặp mẫu có phương sai khác nhau\n"
          ],
          "name": "stdout"
        }
      ]
    },
    {
      "cell_type": "code",
      "metadata": {
        "id": "F0cqoXonPBSG",
        "colab": {
          "base_uri": "https://localhost:8080/"
        },
        "outputId": "5dc7fd35-ed52-4a13-faba-f7878bcd33b1"
      },
      "source": [
        "s, p = scipy.stats.levene(a, b, c, d)\n",
        "print('p_value = ', p)\n",
        "if p > 0.05:\n",
        "  print(\"Chưa đủ bằng chứng thống kê để bác bỏ giả thuyết H0, Điều này ngụ ý rằng phương sai các mẫu bằng nhau\")\n",
        "else:\n",
        "  print(\"Có bằng chứng thống kê để bác bỏ giả thuyết H0, Điều này ngụ ý rằng Tồn tại ít nhất một cặp mẫu có phương sai khác nhau\")"
      ],
      "execution_count": 16,
      "outputs": [
        {
          "output_type": "stream",
          "text": [
            "p_value =  0.0010023035471712338\n",
            "Có bằng chứng thống kê để bác bỏ giả thuyết H0, Điều này ngụ ý rằng Tồn tại ít nhất một cặp mẫu có phương sai khác nhau\n"
          ],
          "name": "stdout"
        }
      ]
    }
  ]
}