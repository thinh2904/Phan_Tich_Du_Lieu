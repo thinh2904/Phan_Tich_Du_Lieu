{
  "nbformat": 4,
  "nbformat_minor": 0,
  "metadata": {
    "kernelspec": {
      "display_name": "Python 3",
      "language": "python",
      "name": "python3"
    },
    "language_info": {
      "codemirror_mode": {
        "name": "ipython",
        "version": 3
      },
      "file_extension": ".py",
      "mimetype": "text/x-python",
      "name": "python",
      "nbconvert_exporter": "python",
      "pygments_lexer": "ipython3",
      "version": "3.7.3"
    },
    "colab": {
      "name": "ANOVA_phan_2.ipynb",
      "provenance": [],
      "collapsed_sections": [],
      "include_colab_link": true
    }
  },
  "cells": [
    {
      "cell_type": "markdown",
      "metadata": {
        "id": "view-in-github",
        "colab_type": "text"
      },
      "source": [
        "<a href=\"https://colab.research.google.com/github/thinh2904/Phan_Tich_Du_Lieu/blob/main/ANOVA_phan_2.ipynb\" target=\"_parent\"><img src=\"https://colab.research.google.com/assets/colab-badge.svg\" alt=\"Open In Colab\"/></a>"
      ]
    },
    {
      "cell_type": "markdown",
      "metadata": {
        "id": "Cp-MUDdfPBR-"
      },
      "source": [
        "PHÂN TÍCH ANOVA MỘT CHIỀU\n",
        "\n",
        "Phân tích ANOVA chấp nhận các giả định sau:\n",
        "\n",
        "(1) Tất cả các nhóm đều độc lập với nhau\n",
        "\n",
        "(2) Dữ liệu của mỗi nhóm đều tuân theo phân phối chuẩn. Tính chất này có thể được kiểm định bằng phương pháp Shapiro-Wilks.\n",
        "\n",
        "(3) Phương sai (variance) của các nhóm bằng nhau. Tính chất này có thể được kiểm định bằng phương pháp kiểm định Bartlett hay Levene.\n",
        "\n",
        "Nếu dữ liệu hiện có thỏa mãn các tính chất trên thì chúng ta mới tiến hành kiểm định ANOVA. Do vậy trước khi tiến hành kiểm định ANOVA, chúng ta cần thực hiện kiểm tra tập dữ liệu cần thỏa mãn 3 tính chất trên.\n",
        "    "
      ]
    },
    {
      "cell_type": "code",
      "metadata": {
        "id": "9w5DYKNpS2Zf"
      },
      "source": [
        "import numpy as np\n",
        "import pandas as pd\n",
        "import random\n",
        "import scipy\n",
        "from scipy import stats"
      ],
      "execution_count": 1,
      "outputs": []
    },
    {
      "cell_type": "code",
      "metadata": {
        "id": "V_UNJLn9PBSE",
        "colab": {
          "base_uri": "https://localhost:8080/"
        },
        "outputId": "ca898b00-2082-46f3-8ff0-288111493f7a"
      },
      "source": [
        "sample_1 = np.random.normal(20, 0.1, 100)\n",
        "sample_1[:10]"
      ],
      "execution_count": 2,
      "outputs": [
        {
          "output_type": "execute_result",
          "data": {
            "text/plain": [
              "array([19.90305438, 20.05317114, 20.01734037, 19.8886357 , 20.07736137,\n",
              "       20.00559086, 20.08535878, 20.03168349, 19.80067928, 20.02732105])"
            ]
          },
          "metadata": {
            "tags": []
          },
          "execution_count": 2
        }
      ]
    },
    {
      "cell_type": "code",
      "metadata": {
        "id": "-fbgeRm7PBSF",
        "colab": {
          "base_uri": "https://localhost:8080/"
        },
        "outputId": "af2a7782-91b2-4dd8-adac-647a7100724e"
      },
      "source": [
        "sample_2 = s = np.random.poisson(20, 100)\n",
        "sample_2[:10]"
      ],
      "execution_count": 3,
      "outputs": [
        {
          "output_type": "execute_result",
          "data": {
            "text/plain": [
              "array([26, 19, 21, 16, 18, 28, 21, 16, 19, 19])"
            ]
          },
          "metadata": {
            "tags": []
          },
          "execution_count": 3
        }
      ]
    },
    {
      "cell_type": "markdown",
      "metadata": {
        "id": "lvQRyJi6PBSF"
      },
      "source": [
        "Hãy tham khảo các hướng dẫn sau để kiểm định tính chất thứ 2 bằng phương pháp Shapiro-Wilks đối với sample_1 và sample_2\n",
        "\n",
        "(1) [Tài liệu tham khảo scipy](https://docs.scipy.org/doc/scipy/reference/generated/scipy.stats.shapiro.html)\n",
        "\n",
        "(2) [Hướng dẫn cụ thể của statology](https://www.statology.org/shapiro-wilk-test-python/)"
      ]
    },
    {
      "cell_type": "markdown",
      "metadata": {
        "id": "kUyNAbCR_5xX"
      },
      "source": [
        "H0: Mẫu tuân theo phân phối chuẩn\n",
        "\n",
        "Ha: Mẫu không tuân theo phân phối chuẩn"
      ]
    },
    {
      "cell_type": "markdown",
      "metadata": {
        "id": "JrwTX0zZjD8S"
      },
      "source": [
        "Cách 1:"
      ]
    },
    {
      "cell_type": "code",
      "metadata": {
        "id": "wiM7UfpYUg-G"
      },
      "source": [
        "from scipy.stats import shapiro"
      ],
      "execution_count": 4,
      "outputs": []
    },
    {
      "cell_type": "code",
      "metadata": {
        "colab": {
          "base_uri": "https://localhost:8080/"
        },
        "id": "jdoeHekuUkVL",
        "outputId": "e3191dc7-9006-42a9-b229-8d41eae1d654"
      },
      "source": [
        "t1, p1 = shapiro(sample_1)\n",
        "if p1 > 0.05:\n",
        "  print(\"Chưa đủ bằng chứng để bác bỏ H0: Mẫu có phần trăm lớn tuân theo phân phối chuẩn\")\n",
        "else:\n",
        "  print(\"Có bằng chứng để bác bỏ H0: Mẫu tuân theo phân phối không chuẩn\")"
      ],
      "execution_count": 6,
      "outputs": [
        {
          "output_type": "stream",
          "text": [
            "Chưa đủ bằng chứng để bác bỏ H0: Mẫu có phần trăm lớn tuân theo phân phối chuẩn\n"
          ],
          "name": "stdout"
        }
      ]
    },
    {
      "cell_type": "code",
      "metadata": {
        "colab": {
          "base_uri": "https://localhost:8080/"
        },
        "id": "vRrvry4xUo9d",
        "outputId": "d16f04c3-fa70-44d4-9c8e-0eb1b2fdd0e8"
      },
      "source": [
        "t2, p2 = shapiro(sample_2)\n",
        "if p2 > 0.05:\n",
        "  print(\"Chưa đủ bằng chứng để bác bỏ H0: Mẫu có phần trăm lớn tuân theo phân phối chuẩn\")\n",
        "else:\n",
        "  print(\"Có bằng chứng để bác bỏ H0: Mẫu tuân theo phân phối không chuẩn\")"
      ],
      "execution_count": 7,
      "outputs": [
        {
          "output_type": "stream",
          "text": [
            "Chưa đủ bằng chứng để bác bỏ H0: Mẫu có phần trăm lớn tuân theo phân phối chuẩn\n"
          ],
          "name": "stdout"
        }
      ]
    },
    {
      "cell_type": "markdown",
      "metadata": {
        "id": "B8FVd1EDjacK"
      },
      "source": [
        "Cách 2:"
      ]
    },
    {
      "cell_type": "code",
      "metadata": {
        "id": "lP0gyAHSPBSF",
        "colab": {
          "base_uri": "https://localhost:8080/"
        },
        "outputId": "0343a248-8327-47ea-d8fb-58b0a6d87db3"
      },
      "source": [
        "t1, p1 = scipy.stats.shapiro(sample_1)\n",
        "if p1 > 0.05:\n",
        "  print(\"Chưa đủ bằng chứng để bác bỏ H0: Mẫu có phần trăm lớn tuân theo phân phối chuẩn\")\n",
        "else:\n",
        "  print(\"Có bằng chứng để bác bỏ H0: Mẫu tuân theo phân phối không chuẩn\")"
      ],
      "execution_count": 8,
      "outputs": [
        {
          "output_type": "stream",
          "text": [
            "Chưa đủ bằng chứng để bác bỏ H0: Mẫu có phần trăm lớn tuân theo phân phối chuẩn\n"
          ],
          "name": "stdout"
        }
      ]
    },
    {
      "cell_type": "code",
      "metadata": {
        "colab": {
          "base_uri": "https://localhost:8080/"
        },
        "id": "P5n2NYXSW2kY",
        "outputId": "d0bf11cf-2aec-4bec-cfec-2646338173e2"
      },
      "source": [
        "t2, p2 = scipy.stats.shapiro(sample_1)\n",
        "if p2 > 0.05:\n",
        "  print(\"Chưa đủ bằng chứng để bác bỏ H0: Mẫu có phần trăm lớn tuân theo phân phối chuẩn\")\n",
        "else:\n",
        "  print(\"Có bằng chứng để bác bỏ H0: Mẫu tuân theo phân phối không chuẩn\")"
      ],
      "execution_count": 9,
      "outputs": [
        {
          "output_type": "stream",
          "text": [
            "Chưa đủ bằng chứng để bác bỏ H0: Mẫu có phần trăm lớn tuân theo phân phối chuẩn\n"
          ],
          "name": "stdout"
        }
      ]
    },
    {
      "cell_type": "markdown",
      "metadata": {
        "id": "7bLmCIKpPBSF"
      },
      "source": [
        "Hãy tham khảo các hướng dẫn sau để kiểm định tính chất thứ 3 bằng kiểm định Bartlett hoặc kiểm định Levene\n",
        "\n",
        "(1) [Hướng dẫn tổng quát](https://www.marsja.se/levenes-bartletts-test-of-equality-homogeneity-of-variance-in-python/)\n",
        "\n",
        "(2) [Hướng dẫn ở stackoverflow](https://stackoverflow.com/questions/36141254/how-to-test-for-homoscedasticity-having-the-same-population-variance-in-python)\n",
        "\n",
        "(3) Sử dụng bài giảng về kiểm định Bartlett và Levene ở buổi trước"
      ]
    },
    {
      "cell_type": "markdown",
      "metadata": {
        "id": "QGk07MNLjog5"
      },
      "source": [
        "Lấy dữ liệu từ bài trước, ta có:"
      ]
    },
    {
      "cell_type": "code",
      "metadata": {
        "id": "ixCux9VSjvYt"
      },
      "source": [
        "f = {'Business Majors': np.random.normal(random.uniform(2, 5), 0.1, 35),\n",
        "     'Englissh Majors': np.random.normal(random.uniform(2, 5), 0.2, 35),\n",
        "     'Math Majors': np.random.normal(random.uniform(2, 5), 0.15, 35),\n",
        "     'Psych Majors': np.random.normal(random.uniform(2, 5), 0.1, 35)}\n",
        "\n",
        "df3 = pd.DataFrame(f)"
      ],
      "execution_count": 10,
      "outputs": []
    },
    {
      "cell_type": "code",
      "metadata": {
        "colab": {
          "base_uri": "https://localhost:8080/",
          "height": 195
        },
        "id": "q7r6A7z0j2eE",
        "outputId": "24443f7e-a552-4923-b2bd-573780b1504c"
      },
      "source": [
        "df3.head()"
      ],
      "execution_count": 11,
      "outputs": [
        {
          "output_type": "execute_result",
          "data": {
            "text/html": [
              "<div>\n",
              "<style scoped>\n",
              "    .dataframe tbody tr th:only-of-type {\n",
              "        vertical-align: middle;\n",
              "    }\n",
              "\n",
              "    .dataframe tbody tr th {\n",
              "        vertical-align: top;\n",
              "    }\n",
              "\n",
              "    .dataframe thead th {\n",
              "        text-align: right;\n",
              "    }\n",
              "</style>\n",
              "<table border=\"1\" class=\"dataframe\">\n",
              "  <thead>\n",
              "    <tr style=\"text-align: right;\">\n",
              "      <th></th>\n",
              "      <th>Business Majors</th>\n",
              "      <th>Englissh Majors</th>\n",
              "      <th>Math Majors</th>\n",
              "      <th>Psych Majors</th>\n",
              "    </tr>\n",
              "  </thead>\n",
              "  <tbody>\n",
              "    <tr>\n",
              "      <th>0</th>\n",
              "      <td>2.315481</td>\n",
              "      <td>2.665900</td>\n",
              "      <td>3.853925</td>\n",
              "      <td>2.304442</td>\n",
              "    </tr>\n",
              "    <tr>\n",
              "      <th>1</th>\n",
              "      <td>2.239589</td>\n",
              "      <td>2.649737</td>\n",
              "      <td>4.155552</td>\n",
              "      <td>2.369555</td>\n",
              "    </tr>\n",
              "    <tr>\n",
              "      <th>2</th>\n",
              "      <td>2.272105</td>\n",
              "      <td>2.773634</td>\n",
              "      <td>4.488164</td>\n",
              "      <td>2.266408</td>\n",
              "    </tr>\n",
              "    <tr>\n",
              "      <th>3</th>\n",
              "      <td>2.273744</td>\n",
              "      <td>3.001340</td>\n",
              "      <td>4.305612</td>\n",
              "      <td>2.511220</td>\n",
              "    </tr>\n",
              "    <tr>\n",
              "      <th>4</th>\n",
              "      <td>2.100742</td>\n",
              "      <td>3.014819</td>\n",
              "      <td>4.005215</td>\n",
              "      <td>2.331445</td>\n",
              "    </tr>\n",
              "  </tbody>\n",
              "</table>\n",
              "</div>"
            ],
            "text/plain": [
              "   Business Majors  Englissh Majors  Math Majors  Psych Majors\n",
              "0         2.315481         2.665900     3.853925      2.304442\n",
              "1         2.239589         2.649737     4.155552      2.369555\n",
              "2         2.272105         2.773634     4.488164      2.266408\n",
              "3         2.273744         3.001340     4.305612      2.511220\n",
              "4         2.100742         3.014819     4.005215      2.331445"
            ]
          },
          "metadata": {
            "tags": []
          },
          "execution_count": 11
        }
      ]
    },
    {
      "cell_type": "code",
      "metadata": {
        "id": "aAnn31w1lQM1"
      },
      "source": [
        "a = df3['Business Majors']\n",
        "b = df3['Englissh Majors']\n",
        "c = df3['Math Majors']\n",
        "d = df3['Psych Majors']"
      ],
      "execution_count": 12,
      "outputs": []
    },
    {
      "cell_type": "markdown",
      "metadata": {
        "id": "1thIM5BmAtL_"
      },
      "source": [
        "H0: Phương sai bằng nhau\n",
        "\n",
        "Ha: Tồn tại ít nhất một cặp mẫu có phương sai khác nhau"
      ]
    },
    {
      "cell_type": "markdown",
      "metadata": {
        "id": "a59VkWdsjlOP"
      },
      "source": [
        "Cách 1:"
      ]
    },
    {
      "cell_type": "code",
      "metadata": {
        "id": "8bEpF16tZFGH"
      },
      "source": [
        "from scipy.stats import bartlett\n",
        "from scipy.stats import levene"
      ],
      "execution_count": 14,
      "outputs": []
    },
    {
      "cell_type": "code",
      "metadata": {
        "colab": {
          "base_uri": "https://localhost:8080/"
        },
        "id": "v6wtmmVVlVXA",
        "outputId": "4ece30f5-d63d-47ba-abf3-3593033e49fe"
      },
      "source": [
        "stat, p = bartlett(a, b, c, d)\n",
        "print('p_value = ', p)\n",
        "if p > 0.05:\n",
        "  print(\"Chưa đủ bằng chứng để bác bỏ H0: Có thể nói rằng phương sai bằng nhau\")\n",
        "else:\n",
        "  print(\"Có bằng chứng để bác bỏ H0: Tồn tại ít nhất một cặp mẫu có phương sai khác nhau\")"
      ],
      "execution_count": 15,
      "outputs": [
        {
          "output_type": "stream",
          "text": [
            "p_value =  3.799233048970675e-06\n",
            "Có bằng chứng để bác bỏ H0: Tồn tại ít nhất một cặp mẫu có phương sai khác nhau\n"
          ],
          "name": "stdout"
        }
      ]
    },
    {
      "cell_type": "code",
      "metadata": {
        "colab": {
          "base_uri": "https://localhost:8080/"
        },
        "id": "Mfde32njZHHL",
        "outputId": "b933cebe-e3d9-448c-c4ea-682c0f5ea538"
      },
      "source": [
        "stat, p = levene(a, b, c, d)\n",
        "print('p_value = ', p)\n",
        "if p > 0.05:\n",
        "  print(\"Chưa đủ bằng chứng để bác bỏ H0: Có thể nói rằng phương sai bằng nhau\")\n",
        "else:\n",
        "  print(\"Có bằng chứng để bác bỏ H0: Tồn tại ít nhất một cặp mẫu có phương sai khác nhau\")"
      ],
      "execution_count": 16,
      "outputs": [
        {
          "output_type": "stream",
          "text": [
            "p_value =  0.00415290808183641\n",
            "Có bằng chứng để bác bỏ H0: Tồn tại ít nhất một cặp mẫu có phương sai khác nhau\n"
          ],
          "name": "stdout"
        }
      ]
    },
    {
      "cell_type": "markdown",
      "metadata": {
        "id": "l7WnCD3llieh"
      },
      "source": [
        "Cách 2:"
      ]
    },
    {
      "cell_type": "code",
      "metadata": {
        "id": "S-5NO1pGPBSG",
        "colab": {
          "base_uri": "https://localhost:8080/"
        },
        "outputId": "e214e640-b378-47a5-b94b-fddaee1ae14e"
      },
      "source": [
        "s, p =scipy.stats.bartlett(a, b, c, d)\n",
        "print('p_value = ', p)\n",
        "if p > 0.05:\n",
        "  print(\"Chưa đủ bằng chứng để bác bỏ H0: Có thể nói rằng phương sai bằng nhau\")\n",
        "else:\n",
        "  print(\"Có bằng chứng để bác bỏ H0: Tồn tại ít nhất một cặp mẫu có phương sai khác nhau\")"
      ],
      "execution_count": 18,
      "outputs": [
        {
          "output_type": "stream",
          "text": [
            "p_value =  3.799233048970675e-06\n",
            "Có bằng chứng để bác bỏ H0: Tồn tại ít nhất một cặp mẫu có phương sai khác nhau\n"
          ],
          "name": "stdout"
        }
      ]
    },
    {
      "cell_type": "code",
      "metadata": {
        "id": "F0cqoXonPBSG",
        "colab": {
          "base_uri": "https://localhost:8080/"
        },
        "outputId": "0460dff6-c41e-4698-f7db-4177b8cabefb"
      },
      "source": [
        "s, p = scipy.stats.levene(a, b, c, d)\n",
        "print('p_value = ', p)\n",
        "if p > 0.05:\n",
        "  print(\"Chưa đủ bằng chứng để bác bỏ H0: Có thể nói rằng phương sai bằng nhau\")\n",
        "else:\n",
        "  print(\"Có bằng chứng để bác bỏ H0: Tồn tại ít nhất một cặp mẫu có phương sai khác nhau\")"
      ],
      "execution_count": 19,
      "outputs": [
        {
          "output_type": "stream",
          "text": [
            "p_value =  0.00415290808183641\n",
            "Có bằng chứng để bác bỏ H0: Tồn tại ít nhất một cặp mẫu có phương sai khác nhau\n"
          ],
          "name": "stdout"
        }
      ]
    }
  ]
}