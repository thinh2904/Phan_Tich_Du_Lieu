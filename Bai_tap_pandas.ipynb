{
  "nbformat": 4,
  "nbformat_minor": 0,
  "metadata": {
    "colab": {
      "name": "Bai_tap_pandas.ipynb",
      "provenance": []
    },
    "kernelspec": {
      "name": "python3",
      "display_name": "Python 3"
    }
  },
  "cells": [
    {
      "cell_type": "markdown",
      "metadata": {
        "id": "5vOd4HJxE7pj"
      },
      "source": [
        "Import thư viện"
      ]
    },
    {
      "cell_type": "code",
      "metadata": {
        "id": "svkF6Re1E3ND"
      },
      "source": [
        "import numpy as np\r\n",
        "import pandas as pd"
      ],
      "execution_count": 2,
      "outputs": []
    },
    {
      "cell_type": "markdown",
      "metadata": {
        "id": "LH8JWwl3FGWx"
      },
      "source": [
        "Câu 1: Hãy tạo 1 đối tượng kiểu Series có tối thiểu 10 phần tử (kiểu số) với giá trị tùy ý thích của bạn. In giá trị của Series đó ra màn hình"
      ]
    },
    {
      "cell_type": "code",
      "metadata": {
        "colab": {
          "base_uri": "https://localhost:8080/"
        },
        "id": "ZflWWtMjFLQq",
        "outputId": "613b8df6-704d-43ad-ab16-3af36ac7bce9"
      },
      "source": [
        "series_1 = pd.Series([1, 22, 3, 45, 5, 64, 7, 87, 9, 100])\r\n",
        "series_1"
      ],
      "execution_count": 3,
      "outputs": [
        {
          "output_type": "execute_result",
          "data": {
            "text/plain": [
              "0      1\n",
              "1     22\n",
              "2      3\n",
              "3     45\n",
              "4      5\n",
              "5     64\n",
              "6      7\n",
              "7     87\n",
              "8      9\n",
              "9    100\n",
              "dtype: int64"
            ]
          },
          "metadata": {
            "tags": []
          },
          "execution_count": 3
        }
      ]
    },
    {
      "cell_type": "markdown",
      "metadata": {
        "id": "J6tAmZJDFxBn"
      },
      "source": [
        "Câu 2: Hãy tạo 1 đối tượng kiểu Series với giá trị khởi tạo hình thành từ dữ liệu kiểu Dictionary. In kết quả ra màn hình"
      ]
    },
    {
      "cell_type": "code",
      "metadata": {
        "colab": {
          "base_uri": "https://localhost:8080/"
        },
        "id": "jvDSchWnFx7x",
        "outputId": "d21a4476-38a0-41b5-8bc9-b569804f5dfa"
      },
      "source": [
        "series_2 = pd.Series([\"Thịnh\", 18, \"Nam\", \"Kinh\", \"Phật giáo\"], index=[\"Tên\", \"Tuổi\", \"Giới tính\", \"Dân tộc\", \"Tôn giáo\"])\r\n",
        "series_2"
      ],
      "execution_count": 4,
      "outputs": [
        {
          "output_type": "execute_result",
          "data": {
            "text/plain": [
              "Tên              Thịnh\n",
              "Tuổi                18\n",
              "Giới tính          Nam\n",
              "Dân tộc           Kinh\n",
              "Tôn giáo     Phật giáo\n",
              "dtype: object"
            ]
          },
          "metadata": {
            "tags": []
          },
          "execution_count": 4
        }
      ]
    },
    {
      "cell_type": "markdown",
      "metadata": {
        "id": "8ywWTQ7uHXGZ"
      },
      "source": [
        "Câu 3: Sử dụng series ở câu 1, hãy thay đổi giá trị của cột index từ kiểu số theo kiểu ký tự với giá trị do bạn tự xác định."
      ]
    },
    {
      "cell_type": "code",
      "metadata": {
        "id": "_fUEL3sKHX91",
        "colab": {
          "base_uri": "https://localhost:8080/"
        },
        "outputId": "eed96dea-1be7-43c2-d104-a3d447361043"
      },
      "source": [
        "series_stt = []\r\n",
        "for i in series_1.index:\r\n",
        "  series_stt.append(f'So thu {i}')\r\n",
        "series_3 = pd.Series(series_1.values, index=series_stt)\r\n",
        "series_3"
      ],
      "execution_count": 10,
      "outputs": [
        {
          "output_type": "execute_result",
          "data": {
            "text/plain": [
              "So thu 0      1\n",
              "So thu 1     22\n",
              "So thu 2      3\n",
              "So thu 3     45\n",
              "So thu 4      5\n",
              "So thu 5     64\n",
              "So thu 6      7\n",
              "So thu 7     87\n",
              "So thu 8      9\n",
              "So thu 9    100\n",
              "dtype: int64"
            ]
          },
          "metadata": {
            "tags": []
          },
          "execution_count": 10
        }
      ]
    },
    {
      "cell_type": "markdown",
      "metadata": {
        "id": "MeTKJ9ItJDrK"
      },
      "source": [
        "Câu 4: Sử dụng series ở câu 2, hãy truy cập đến phần tử thứ 5 và in ra màn hình"
      ]
    },
    {
      "cell_type": "code",
      "metadata": {
        "id": "trthawgkJGJk",
        "colab": {
          "base_uri": "https://localhost:8080/"
        },
        "outputId": "efcf5426-ac01-4679-d343-586acf23640b"
      },
      "source": [
        "print(series_2[4])"
      ],
      "execution_count": 11,
      "outputs": [
        {
          "output_type": "stream",
          "text": [
            "Phật giáo\n"
          ],
          "name": "stdout"
        }
      ]
    },
    {
      "cell_type": "markdown",
      "metadata": {
        "id": "twQHFOF9JGnE"
      },
      "source": [
        "Câu 5: Sử dụng series ở câu 3, hãy truy cập đến 1 phần tử dựa theo chỉ số kiểu ký tự do bạn lựa chọn và in ra màn hình"
      ]
    },
    {
      "cell_type": "code",
      "metadata": {
        "id": "rIStDcJUJIgU",
        "colab": {
          "base_uri": "https://localhost:8080/"
        },
        "outputId": "633f5294-2bdc-4b39-b317-90e509f7c896"
      },
      "source": [
        "print(series_3['So thu 5'])"
      ],
      "execution_count": 13,
      "outputs": [
        {
          "output_type": "stream",
          "text": [
            "64\n"
          ],
          "name": "stdout"
        }
      ]
    },
    {
      "cell_type": "markdown",
      "metadata": {
        "id": "TkJak1kNJI6L"
      },
      "source": [
        "Câu 6: Sử dụng series ở câu 3, hãy tìm ra tính chất đặc thù trong các chỉ số kiểu kí tự, thực hiện vòng lặp for duyệt trên các chỉ mục kiểu kí tự này để lọc ra những phần tử thỏa mãn điều kiện và in ra màn hình"
      ]
    },
    {
      "cell_type": "code",
      "metadata": {
        "id": "yW-feoUZJM7Q",
        "colab": {
          "base_uri": "https://localhost:8080/"
        },
        "outputId": "42fa8f5a-2662-43dd-83ee-5b0efde21ff5"
      },
      "source": [
        "#Lay 5 so dau tien\r\n",
        "series_3[[int(name[-1]) <5 for name in series_3.index]]"
      ],
      "execution_count": 27,
      "outputs": [
        {
          "output_type": "execute_result",
          "data": {
            "text/plain": [
              "So thu 0     1\n",
              "So thu 1    22\n",
              "So thu 2     3\n",
              "So thu 3    45\n",
              "So thu 4     5\n",
              "dtype: int64"
            ]
          },
          "metadata": {
            "tags": []
          },
          "execution_count": 27
        }
      ]
    },
    {
      "cell_type": "markdown",
      "metadata": {
        "id": "pqikUaBUJNOR"
      },
      "source": [
        "Câu 7: Sử dụng series ở câu 1, hãy đổi tên cột index thành 'STT' và đặt tên cho series là 'Gia_tri'. In kết quả ra màn hình"
      ]
    },
    {
      "cell_type": "code",
      "metadata": {
        "id": "0h_A93VJJP5E",
        "colab": {
          "base_uri": "https://localhost:8080/"
        },
        "outputId": "a2a7b7c5-a95e-4e4d-947a-6292d624fed6"
      },
      "source": [
        "series_1.index.name = 'STT'\r\n",
        "series_1.name = 'Gia_tri'\r\n",
        "series_1"
      ],
      "execution_count": 22,
      "outputs": [
        {
          "output_type": "execute_result",
          "data": {
            "text/plain": [
              "STT\n",
              "0      1\n",
              "1     22\n",
              "2      3\n",
              "3     45\n",
              "4      5\n",
              "5     64\n",
              "6      7\n",
              "7     87\n",
              "8      9\n",
              "9    100\n",
              "Name: Gia_tri, dtype: int64"
            ]
          },
          "metadata": {
            "tags": []
          },
          "execution_count": 22
        }
      ]
    },
    {
      "cell_type": "markdown",
      "metadata": {
        "id": "Hhwdv0FzJQJx"
      },
      "source": [
        "Câu 8: Hãy áp dụng hàm logarith của gói numpy với series ở câu 1 và in kết quả ra màn hình"
      ]
    },
    {
      "cell_type": "code",
      "metadata": {
        "id": "3rabloGyJTBE",
        "colab": {
          "base_uri": "https://localhost:8080/"
        },
        "outputId": "8d430460-3309-4d67-d25d-412c4986dee0"
      },
      "source": [
        "series_log = pd.Series([np.log(a) for a in series_1.values])\r\n",
        "series_log"
      ],
      "execution_count": 25,
      "outputs": [
        {
          "output_type": "execute_result",
          "data": {
            "text/plain": [
              "0    0.000000\n",
              "1    3.091042\n",
              "2    1.098612\n",
              "3    3.806662\n",
              "4    1.609438\n",
              "5    4.158883\n",
              "6    1.945910\n",
              "7    4.465908\n",
              "8    2.197225\n",
              "9    4.605170\n",
              "dtype: float64"
            ]
          },
          "metadata": {
            "tags": []
          },
          "execution_count": 25
        }
      ]
    },
    {
      "cell_type": "markdown",
      "metadata": {
        "id": "Y0zYsCCeJTcx"
      },
      "source": [
        "Câu 9: Lọc các giá trị của series 1 > 15 và in ra màn hình"
      ]
    },
    {
      "cell_type": "code",
      "metadata": {
        "id": "cvRYCo6SJWVd",
        "colab": {
          "base_uri": "https://localhost:8080/"
        },
        "outputId": "07a2c178-b1cb-4c77-94ea-67118fb92ca8"
      },
      "source": [
        "series_1[series_1>15]"
      ],
      "execution_count": 26,
      "outputs": [
        {
          "output_type": "execute_result",
          "data": {
            "text/plain": [
              "STT\n",
              "1     22\n",
              "3     45\n",
              "5     64\n",
              "7     87\n",
              "9    100\n",
              "Name: Gia_tri, dtype: int64"
            ]
          },
          "metadata": {
            "tags": []
          },
          "execution_count": 26
        }
      ]
    }
  ]
}