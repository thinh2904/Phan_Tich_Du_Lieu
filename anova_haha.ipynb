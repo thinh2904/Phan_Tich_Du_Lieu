{
  "nbformat": 4,
  "nbformat_minor": 0,
  "metadata": {
    "kernelspec": {
      "display_name": "Python 3",
      "language": "python",
      "name": "python3"
    },
    "language_info": {
      "codemirror_mode": {
        "name": "ipython",
        "version": 3
      },
      "file_extension": ".py",
      "mimetype": "text/x-python",
      "name": "python",
      "nbconvert_exporter": "python",
      "pygments_lexer": "ipython3",
      "version": "3.7.3"
    },
    "colab": {
      "name": "anova_haha.ipynb",
      "provenance": [],
      "include_colab_link": true
    }
  },
  "cells": [
    {
      "cell_type": "markdown",
      "metadata": {
        "id": "view-in-github",
        "colab_type": "text"
      },
      "source": [
        "<a href=\"https://colab.research.google.com/github/thinh2904/Phan_Tich_Du_Lieu/blob/main/anova_haha.ipynb\" target=\"_parent\"><img src=\"https://colab.research.google.com/assets/colab-badge.svg\" alt=\"Open In Colab\"/></a>"
      ]
    },
    {
      "cell_type": "markdown",
      "metadata": {
        "id": "fJG1gsyjTDhx"
      },
      "source": [
        "PHÂN TÍCH ANOVA \n",
        "\n",
        "Tham khảo:\n",
        "\n",
        "(1) [ONE-WAY ANOVA](https://www.pythonfordatascience.org/anova-python/)\n",
        "\n",
        "(2) [ANOVA using Python (with examples)](https://www.reneshbedre.com/blog/anova.html)\n",
        "\n",
        "(3) [Hướng dẫn phân tích ANOVA bằng gói statsmodels](https://www.statsmodels.org/stable/examples/notebooks/generated/interactions_anova.html)"
      ]
    },
    {
      "cell_type": "markdown",
      "metadata": {
        "id": "6jbIOKNUTDh3"
      },
      "source": [
        "QUY TRÌNH PHÂN TÍCH ANOVA MỘT CHIỀU\n",
        "\n",
        "Kiểm tra các giả định:\n",
        "\n",
        "- Các mẫu độc lập với nhau\n",
        "- Các mẫu có cùng phương sai\n",
        "- Các mẫu đều tuân theo phân phối chuẩn\n",
        "\n",
        "Xây dựng giả thuyết\n",
        "\n",
        "$$H_{0}: \\mu_{0} = \\mu_{1} = ... = \\mu_{n}$$\n",
        "$$H_{a}: \\text{Có tối thiểu một cặp giá trị trung bình có giá trị khác nhau}$$\n",
        "\n",
        "Giá trị thống kê F được sử dụng trong việc ra quyết định của phân tích ANOVA một chiều. Công thức tính như sau:\n",
        "\n",
        "$$F = \\frac{MS_{B}}{MS_{W}}$$\n",
        "\n",
        "với:\n",
        "\n",
        "- $MS_{B} = \\frac{\\sum_{k}n_{k}(\\overline{\\rm x_{k}} - \\overline{\\rm x})^{2}}{k - 1}$\n",
        "- $MS_{W} = \\frac{\\sum_{k}n_{i,k}( x_{i,k} - \\overline{\\rm x})^{2}}{k - 1}$\n",
        "\n",
        "Loại bỏ giả thuyết $H_{0}$ khi chỉ số F > chỉ số F-critical (hoặc giá trị p tương ứng < 0.05!!!???)"
      ]
    },
    {
      "cell_type": "markdown",
      "metadata": {
        "id": "I7l6qJPeTDh4"
      },
      "source": [
        "Ví dụ về phân tích ANOVA một chiều"
      ]
    },
    {
      "cell_type": "code",
      "metadata": {
        "id": "a-g3qIvpTDh5",
        "colab": {
          "base_uri": "https://localhost:8080/",
          "height": 195
        },
        "outputId": "5bebb739-e0d2-4d51-fcb8-eb238361206f"
      },
      "source": [
        "import pandas as pd\n",
        "\n",
        "#ĐỌc dữ liệu\n",
        "df = pd.read_csv(\"https://raw.githubusercontent.com/researchpy/Data-sets/master/difficile.csv\")\n",
        "df.head()"
      ],
      "execution_count": 1,
      "outputs": [
        {
          "output_type": "execute_result",
          "data": {
            "text/html": [
              "<div>\n",
              "<style scoped>\n",
              "    .dataframe tbody tr th:only-of-type {\n",
              "        vertical-align: middle;\n",
              "    }\n",
              "\n",
              "    .dataframe tbody tr th {\n",
              "        vertical-align: top;\n",
              "    }\n",
              "\n",
              "    .dataframe thead th {\n",
              "        text-align: right;\n",
              "    }\n",
              "</style>\n",
              "<table border=\"1\" class=\"dataframe\">\n",
              "  <thead>\n",
              "    <tr style=\"text-align: right;\">\n",
              "      <th></th>\n",
              "      <th>person</th>\n",
              "      <th>dose</th>\n",
              "      <th>libido</th>\n",
              "    </tr>\n",
              "  </thead>\n",
              "  <tbody>\n",
              "    <tr>\n",
              "      <th>0</th>\n",
              "      <td>1</td>\n",
              "      <td>1</td>\n",
              "      <td>3</td>\n",
              "    </tr>\n",
              "    <tr>\n",
              "      <th>1</th>\n",
              "      <td>2</td>\n",
              "      <td>1</td>\n",
              "      <td>2</td>\n",
              "    </tr>\n",
              "    <tr>\n",
              "      <th>2</th>\n",
              "      <td>3</td>\n",
              "      <td>1</td>\n",
              "      <td>1</td>\n",
              "    </tr>\n",
              "    <tr>\n",
              "      <th>3</th>\n",
              "      <td>4</td>\n",
              "      <td>1</td>\n",
              "      <td>1</td>\n",
              "    </tr>\n",
              "    <tr>\n",
              "      <th>4</th>\n",
              "      <td>5</td>\n",
              "      <td>1</td>\n",
              "      <td>4</td>\n",
              "    </tr>\n",
              "  </tbody>\n",
              "</table>\n",
              "</div>"
            ],
            "text/plain": [
              "   person  dose  libido\n",
              "0       1     1       3\n",
              "1       2     1       2\n",
              "2       3     1       1\n",
              "3       4     1       1\n",
              "4       5     1       4"
            ]
          },
          "metadata": {
            "tags": []
          },
          "execution_count": 1
        }
      ]
    },
    {
      "cell_type": "code",
      "metadata": {
        "id": "zA3NyIIJTDh6",
        "colab": {
          "base_uri": "https://localhost:8080/",
          "height": 195
        },
        "outputId": "ae332b86-bc55-4643-bdcb-abe72e50be11"
      },
      "source": [
        "#Loại bỏ cột person, theo bạn thì lý do tại sao?\n",
        "#Tại vì cột person không cần thiết để đem đi kiểm định, chỉ là một dãy số thứ tự\n",
        "df.drop('person', axis= 1, inplace= True)\n",
        "df.head()"
      ],
      "execution_count": 2,
      "outputs": [
        {
          "output_type": "execute_result",
          "data": {
            "text/html": [
              "<div>\n",
              "<style scoped>\n",
              "    .dataframe tbody tr th:only-of-type {\n",
              "        vertical-align: middle;\n",
              "    }\n",
              "\n",
              "    .dataframe tbody tr th {\n",
              "        vertical-align: top;\n",
              "    }\n",
              "\n",
              "    .dataframe thead th {\n",
              "        text-align: right;\n",
              "    }\n",
              "</style>\n",
              "<table border=\"1\" class=\"dataframe\">\n",
              "  <thead>\n",
              "    <tr style=\"text-align: right;\">\n",
              "      <th></th>\n",
              "      <th>dose</th>\n",
              "      <th>libido</th>\n",
              "    </tr>\n",
              "  </thead>\n",
              "  <tbody>\n",
              "    <tr>\n",
              "      <th>0</th>\n",
              "      <td>1</td>\n",
              "      <td>3</td>\n",
              "    </tr>\n",
              "    <tr>\n",
              "      <th>1</th>\n",
              "      <td>1</td>\n",
              "      <td>2</td>\n",
              "    </tr>\n",
              "    <tr>\n",
              "      <th>2</th>\n",
              "      <td>1</td>\n",
              "      <td>1</td>\n",
              "    </tr>\n",
              "    <tr>\n",
              "      <th>3</th>\n",
              "      <td>1</td>\n",
              "      <td>1</td>\n",
              "    </tr>\n",
              "    <tr>\n",
              "      <th>4</th>\n",
              "      <td>1</td>\n",
              "      <td>4</td>\n",
              "    </tr>\n",
              "  </tbody>\n",
              "</table>\n",
              "</div>"
            ],
            "text/plain": [
              "   dose  libido\n",
              "0     1       3\n",
              "1     1       2\n",
              "2     1       1\n",
              "3     1       1\n",
              "4     1       4"
            ]
          },
          "metadata": {
            "tags": []
          },
          "execution_count": 2
        }
      ]
    },
    {
      "cell_type": "code",
      "metadata": {
        "id": "vidYRLrgTDh7",
        "colab": {
          "base_uri": "https://localhost:8080/",
          "height": 195
        },
        "outputId": "6b04ce91-ccaa-4374-9449-d8963c1931b6"
      },
      "source": [
        "#Chuyển đổi giá trị cột dose từ 'định lượng' sang định tính\n",
        "df['dose'].replace({1: 'placebo', 2: 'low', 3: 'high'}, inplace= True)\n",
        "df.head()"
      ],
      "execution_count": 3,
      "outputs": [
        {
          "output_type": "execute_result",
          "data": {
            "text/html": [
              "<div>\n",
              "<style scoped>\n",
              "    .dataframe tbody tr th:only-of-type {\n",
              "        vertical-align: middle;\n",
              "    }\n",
              "\n",
              "    .dataframe tbody tr th {\n",
              "        vertical-align: top;\n",
              "    }\n",
              "\n",
              "    .dataframe thead th {\n",
              "        text-align: right;\n",
              "    }\n",
              "</style>\n",
              "<table border=\"1\" class=\"dataframe\">\n",
              "  <thead>\n",
              "    <tr style=\"text-align: right;\">\n",
              "      <th></th>\n",
              "      <th>dose</th>\n",
              "      <th>libido</th>\n",
              "    </tr>\n",
              "  </thead>\n",
              "  <tbody>\n",
              "    <tr>\n",
              "      <th>0</th>\n",
              "      <td>placebo</td>\n",
              "      <td>3</td>\n",
              "    </tr>\n",
              "    <tr>\n",
              "      <th>1</th>\n",
              "      <td>placebo</td>\n",
              "      <td>2</td>\n",
              "    </tr>\n",
              "    <tr>\n",
              "      <th>2</th>\n",
              "      <td>placebo</td>\n",
              "      <td>1</td>\n",
              "    </tr>\n",
              "    <tr>\n",
              "      <th>3</th>\n",
              "      <td>placebo</td>\n",
              "      <td>1</td>\n",
              "    </tr>\n",
              "    <tr>\n",
              "      <th>4</th>\n",
              "      <td>placebo</td>\n",
              "      <td>4</td>\n",
              "    </tr>\n",
              "  </tbody>\n",
              "</table>\n",
              "</div>"
            ],
            "text/plain": [
              "      dose  libido\n",
              "0  placebo       3\n",
              "1  placebo       2\n",
              "2  placebo       1\n",
              "3  placebo       1\n",
              "4  placebo       4"
            ]
          },
          "metadata": {
            "tags": []
          },
          "execution_count": 3
        }
      ]
    },
    {
      "cell_type": "code",
      "metadata": {
        "id": "zwkn82J8TDh8",
        "colab": {
          "base_uri": "https://localhost:8080/"
        },
        "outputId": "c3cc7d53-4783-4aac-d506-17b70c44a486"
      },
      "source": [
        "import numpy as np\n",
        "#Chuyển đổi df thành dạng phù hợp để phân tích ANOVA một chiều theo gói scipy.stats\n",
        "high = low =  placebo = []\n",
        "high = df['libido'][df['dose'] == 'high']\n",
        "low = df['libido'][df['dose'] == 'low']\n",
        "placebo = df['libido'][df['dose'] == 'placebo']\n",
        "high"
      ],
      "execution_count": 22,
      "outputs": [
        {
          "output_type": "execute_result",
          "data": {
            "text/plain": [
              "10    7\n",
              "11    4\n",
              "12    5\n",
              "13    3\n",
              "14    6\n",
              "Name: libido, dtype: int64"
            ]
          },
          "metadata": {
            "tags": []
          },
          "execution_count": 22
        }
      ]
    },
    {
      "cell_type": "code",
      "metadata": {
        "id": "-cVT5e4iTDh8",
        "colab": {
          "base_uri": "https://localhost:8080/"
        },
        "outputId": "cea9c4bf-462f-4a9f-ea77-513bdafbb1f8"
      },
      "source": [
        "print(low)"
      ],
      "execution_count": 23,
      "outputs": [
        {
          "output_type": "stream",
          "text": [
            "5    5\n",
            "6    2\n",
            "7    4\n",
            "8    2\n",
            "9    3\n",
            "Name: libido, dtype: int64\n"
          ],
          "name": "stdout"
        }
      ]
    },
    {
      "cell_type": "code",
      "metadata": {
        "id": "cJvPXRjHTDh9",
        "colab": {
          "base_uri": "https://localhost:8080/"
        },
        "outputId": "ea5b8dcf-aaa0-4e13-b360-5bf7b72bb997"
      },
      "source": [
        "print(placebo)"
      ],
      "execution_count": 24,
      "outputs": [
        {
          "output_type": "stream",
          "text": [
            "0    3\n",
            "1    2\n",
            "2    1\n",
            "3    1\n",
            "4    4\n",
            "Name: libido, dtype: int64\n"
          ],
          "name": "stdout"
        }
      ]
    },
    {
      "cell_type": "code",
      "metadata": {
        "id": "_N9ycIf0TDh9"
      },
      "source": [
        "import scipy.stats as stats\n",
        "stat, p = stats.f_oneway(high,\n",
        "               low,\n",
        "               placebo)"
      ],
      "execution_count": 33,
      "outputs": []
    },
    {
      "cell_type": "markdown",
      "metadata": {
        "id": "UFcKYximTDh-"
      },
      "source": [
        "p = 0.02 << 0.05 nên...????"
      ]
    },
    {
      "cell_type": "code",
      "metadata": {
        "colab": {
          "base_uri": "https://localhost:8080/"
        },
        "id": "Kgr1AnJnU1pf",
        "outputId": "8132e78c-318c-419b-a932-d74488626b53"
      },
      "source": [
        "if p < 0.05:\n",
        "  print('Loại bỏ giả thuyết H0')\n",
        "else:\n",
        "  print('Không có bằng chứng để bác bỏ H0')"
      ],
      "execution_count": 35,
      "outputs": [
        {
          "output_type": "stream",
          "text": [
            "Loại bỏ giả thuyết H0\n"
          ],
          "name": "stdout"
        }
      ]
    },
    {
      "cell_type": "code",
      "metadata": {
        "id": "pk90ahH_TDh-"
      },
      "source": [
        "#Bài tập: Bạn hãy nối 3 list high, low, placebo ở trên vào trong 1 dataframe có 3 cột mỗi cột có tên là high, low, placebo\n",
        "#Code here"
      ],
      "execution_count": null,
      "outputs": []
    },
    {
      "cell_type": "code",
      "metadata": {
        "id": "KhoWIffhaHjq"
      },
      "source": [
        "high = np.array(high)\n",
        "low = np.array(low)\n",
        "placebo = np.array(placebo)"
      ],
      "execution_count": 29,
      "outputs": []
    },
    {
      "cell_type": "code",
      "metadata": {
        "id": "752UulTpTDh-"
      },
      "source": [
        "df = {'high': high,\n",
        "      'low': low,\n",
        "      'placebo': placebo    \n",
        "}\n",
        "df = pd.DataFrame(df)"
      ],
      "execution_count": 31,
      "outputs": []
    },
    {
      "cell_type": "code",
      "metadata": {
        "colab": {
          "base_uri": "https://localhost:8080/",
          "height": 195
        },
        "id": "najGSnooaDvL",
        "outputId": "54983a64-109b-4a46-cfc8-2f4df8dfc576"
      },
      "source": [
        "df"
      ],
      "execution_count": 32,
      "outputs": [
        {
          "output_type": "execute_result",
          "data": {
            "text/html": [
              "<div>\n",
              "<style scoped>\n",
              "    .dataframe tbody tr th:only-of-type {\n",
              "        vertical-align: middle;\n",
              "    }\n",
              "\n",
              "    .dataframe tbody tr th {\n",
              "        vertical-align: top;\n",
              "    }\n",
              "\n",
              "    .dataframe thead th {\n",
              "        text-align: right;\n",
              "    }\n",
              "</style>\n",
              "<table border=\"1\" class=\"dataframe\">\n",
              "  <thead>\n",
              "    <tr style=\"text-align: right;\">\n",
              "      <th></th>\n",
              "      <th>high</th>\n",
              "      <th>low</th>\n",
              "      <th>placebo</th>\n",
              "    </tr>\n",
              "  </thead>\n",
              "  <tbody>\n",
              "    <tr>\n",
              "      <th>0</th>\n",
              "      <td>7</td>\n",
              "      <td>5</td>\n",
              "      <td>3</td>\n",
              "    </tr>\n",
              "    <tr>\n",
              "      <th>1</th>\n",
              "      <td>4</td>\n",
              "      <td>2</td>\n",
              "      <td>2</td>\n",
              "    </tr>\n",
              "    <tr>\n",
              "      <th>2</th>\n",
              "      <td>5</td>\n",
              "      <td>4</td>\n",
              "      <td>1</td>\n",
              "    </tr>\n",
              "    <tr>\n",
              "      <th>3</th>\n",
              "      <td>3</td>\n",
              "      <td>2</td>\n",
              "      <td>1</td>\n",
              "    </tr>\n",
              "    <tr>\n",
              "      <th>4</th>\n",
              "      <td>6</td>\n",
              "      <td>3</td>\n",
              "      <td>4</td>\n",
              "    </tr>\n",
              "  </tbody>\n",
              "</table>\n",
              "</div>"
            ],
            "text/plain": [
              "   high  low  placebo\n",
              "0     7    5        3\n",
              "1     4    2        2\n",
              "2     5    4        1\n",
              "3     3    2        1\n",
              "4     6    3        4"
            ]
          },
          "metadata": {
            "tags": []
          },
          "execution_count": 32
        }
      ]
    }
  ]
}