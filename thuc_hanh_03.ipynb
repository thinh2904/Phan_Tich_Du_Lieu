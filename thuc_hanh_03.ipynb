{
  "nbformat": 4,
  "nbformat_minor": 0,
  "metadata": {
    "kernelspec": {
      "display_name": "Python 3",
      "language": "python",
      "name": "python3"
    },
    "language_info": {
      "codemirror_mode": {
        "name": "ipython",
        "version": 3
      },
      "file_extension": ".py",
      "mimetype": "text/x-python",
      "name": "python",
      "nbconvert_exporter": "python",
      "pygments_lexer": "ipython3",
      "version": "3.7.3"
    },
    "colab": {
      "name": "thuc-hanh-03.ipynb",
      "provenance": []
    }
  },
  "cells": [
    {
      "cell_type": "markdown",
      "metadata": {
        "id": "5KkqYk7r3Rjt"
      },
      "source": [
        "THỰC HÀNH THỐNG KÊ MÔ TẢ VỚI DỮ LIỆU ĐỊNH LƯỢNG\n",
        "\n",
        "Sử dụng tập dữ liệu microbiome.csv được cung cấp để hoàn thành các bài tập sau"
      ]
    },
    {
      "cell_type": "code",
      "metadata": {
        "id": "vGINmjgS31YY"
      },
      "source": [
        "import pandas as pd\r\n",
        "import numpy as np"
      ],
      "execution_count": 61,
      "outputs": []
    },
    {
      "cell_type": "markdown",
      "metadata": {
        "id": "Z1DZp7mM3Rjx"
      },
      "source": [
        "Câu 1: Tải tập dữ liệu microbiome.csv vào bộ nhớ (sử dụng pandas)"
      ]
    },
    {
      "cell_type": "code",
      "metadata": {
        "id": "MeXY9esN3Rjy",
        "outputId": "46fca1ca-7677-4c90-8e90-941e6502050d",
        "colab": {
          "base_uri": "https://localhost:8080/",
          "height": 419
        }
      },
      "source": [
        "df = pd.read_csv(\"microbiome.csv\")\r\n",
        "df"
      ],
      "execution_count": 62,
      "outputs": [
        {
          "output_type": "execute_result",
          "data": {
            "text/html": [
              "<div>\n",
              "<style scoped>\n",
              "    .dataframe tbody tr th:only-of-type {\n",
              "        vertical-align: middle;\n",
              "    }\n",
              "\n",
              "    .dataframe tbody tr th {\n",
              "        vertical-align: top;\n",
              "    }\n",
              "\n",
              "    .dataframe thead th {\n",
              "        text-align: right;\n",
              "    }\n",
              "</style>\n",
              "<table border=\"1\" class=\"dataframe\">\n",
              "  <thead>\n",
              "    <tr style=\"text-align: right;\">\n",
              "      <th></th>\n",
              "      <th>Taxon</th>\n",
              "      <th>Patient</th>\n",
              "      <th>Tissue</th>\n",
              "      <th>Stool</th>\n",
              "    </tr>\n",
              "  </thead>\n",
              "  <tbody>\n",
              "    <tr>\n",
              "      <th>0</th>\n",
              "      <td>Firmicutes</td>\n",
              "      <td>1</td>\n",
              "      <td>632</td>\n",
              "      <td>305</td>\n",
              "    </tr>\n",
              "    <tr>\n",
              "      <th>1</th>\n",
              "      <td>Firmicutes</td>\n",
              "      <td>2</td>\n",
              "      <td>136</td>\n",
              "      <td>4182</td>\n",
              "    </tr>\n",
              "    <tr>\n",
              "      <th>2</th>\n",
              "      <td>Firmicutes</td>\n",
              "      <td>3</td>\n",
              "      <td>1174</td>\n",
              "      <td>703</td>\n",
              "    </tr>\n",
              "    <tr>\n",
              "      <th>3</th>\n",
              "      <td>Firmicutes</td>\n",
              "      <td>4</td>\n",
              "      <td>408</td>\n",
              "      <td>3946</td>\n",
              "    </tr>\n",
              "    <tr>\n",
              "      <th>4</th>\n",
              "      <td>Firmicutes</td>\n",
              "      <td>5</td>\n",
              "      <td>831</td>\n",
              "      <td>8605</td>\n",
              "    </tr>\n",
              "    <tr>\n",
              "      <th>...</th>\n",
              "      <td>...</td>\n",
              "      <td>...</td>\n",
              "      <td>...</td>\n",
              "      <td>...</td>\n",
              "    </tr>\n",
              "    <tr>\n",
              "      <th>70</th>\n",
              "      <td>Other</td>\n",
              "      <td>11</td>\n",
              "      <td>203</td>\n",
              "      <td>6</td>\n",
              "    </tr>\n",
              "    <tr>\n",
              "      <th>71</th>\n",
              "      <td>Other</td>\n",
              "      <td>12</td>\n",
              "      <td>392</td>\n",
              "      <td>6</td>\n",
              "    </tr>\n",
              "    <tr>\n",
              "      <th>72</th>\n",
              "      <td>Other</td>\n",
              "      <td>13</td>\n",
              "      <td>28</td>\n",
              "      <td>25</td>\n",
              "    </tr>\n",
              "    <tr>\n",
              "      <th>73</th>\n",
              "      <td>Other</td>\n",
              "      <td>14</td>\n",
              "      <td>12</td>\n",
              "      <td>22</td>\n",
              "    </tr>\n",
              "    <tr>\n",
              "      <th>74</th>\n",
              "      <td>Other</td>\n",
              "      <td>15</td>\n",
              "      <td>305</td>\n",
              "      <td>32</td>\n",
              "    </tr>\n",
              "  </tbody>\n",
              "</table>\n",
              "<p>75 rows × 4 columns</p>\n",
              "</div>"
            ],
            "text/plain": [
              "         Taxon  Patient  Tissue  Stool\n",
              "0   Firmicutes        1     632    305\n",
              "1   Firmicutes        2     136   4182\n",
              "2   Firmicutes        3    1174    703\n",
              "3   Firmicutes        4     408   3946\n",
              "4   Firmicutes        5     831   8605\n",
              "..         ...      ...     ...    ...\n",
              "70       Other       11     203      6\n",
              "71       Other       12     392      6\n",
              "72       Other       13      28     25\n",
              "73       Other       14      12     22\n",
              "74       Other       15     305     32\n",
              "\n",
              "[75 rows x 4 columns]"
            ]
          },
          "metadata": {
            "tags": []
          },
          "execution_count": 62
        }
      ]
    },
    {
      "cell_type": "markdown",
      "metadata": {
        "id": "D8rTX8nY3Rjz"
      },
      "source": [
        "NHÓM CÁC CÂU LỆNH THỰC HIỆN CÁC PHÉP TÍNH HƯỚNG TÂM\n",
        "\n",
        "Câu 2: Hãy tính trung bình cộng của cột Patient"
      ]
    },
    {
      "cell_type": "code",
      "metadata": {
        "id": "IphUVxr73Rjz",
        "outputId": "9c3d71e9-9b07-43e6-a498-1672bcfbfb7e",
        "colab": {
          "base_uri": "https://localhost:8080/"
        }
      },
      "source": [
        "df['Patient'].mean()"
      ],
      "execution_count": 63,
      "outputs": [
        {
          "output_type": "execute_result",
          "data": {
            "text/plain": [
              "8.0"
            ]
          },
          "metadata": {
            "tags": []
          },
          "execution_count": 63
        }
      ]
    },
    {
      "cell_type": "markdown",
      "metadata": {
        "id": "kugOmuM53Rjz"
      },
      "source": [
        "Câu 3: Hãy tính trung bình cộng (mean) đồng thời cho 3 cột Patient, Tissue và Stool"
      ]
    },
    {
      "cell_type": "code",
      "metadata": {
        "id": "gQVNPICs3Rjz",
        "outputId": "b82f33db-4864-40fe-b662-7b93a8625643",
        "colab": {
          "base_uri": "https://localhost:8080/"
        }
      },
      "source": [
        "df.mean()"
      ],
      "execution_count": 64,
      "outputs": [
        {
          "output_type": "execute_result",
          "data": {
            "text/plain": [
              "Patient      8.000000\n",
              "Tissue     975.000000\n",
              "Stool      723.786667\n",
              "dtype: float64"
            ]
          },
          "metadata": {
            "tags": []
          },
          "execution_count": 64
        }
      ]
    },
    {
      "cell_type": "markdown",
      "metadata": {
        "id": "U-7a3CXI3Rj0"
      },
      "source": [
        "Câu 4: Hãy tính trung vị (median) cho 2 cột Tissue và Stool"
      ]
    },
    {
      "cell_type": "code",
      "metadata": {
        "id": "kfzUxQom3Rj0",
        "outputId": "a038d28d-1374-4301-db24-a72313b0c0d2",
        "colab": {
          "base_uri": "https://localhost:8080/"
        }
      },
      "source": [
        "df[['Tissue','Stool']].median() "
      ],
      "execution_count": 65,
      "outputs": [
        {
          "output_type": "execute_result",
          "data": {
            "text/plain": [
              "Tissue    310.0\n",
              "Stool      80.0\n",
              "dtype: float64"
            ]
          },
          "metadata": {
            "tags": []
          },
          "execution_count": 65
        }
      ]
    },
    {
      "cell_type": "markdown",
      "metadata": {
        "id": "Qxnlthu43Rj0"
      },
      "source": [
        "Câu 5: Hãy tính số yếu vị (mode) cho 3 cột Patient, Tissue và Stool"
      ]
    },
    {
      "cell_type": "code",
      "metadata": {
        "id": "nxnuo22b3Rj0",
        "outputId": "7396f0bb-0d52-446e-e159-e2c2894e6cf7",
        "colab": {
          "base_uri": "https://localhost:8080/",
          "height": 514
        }
      },
      "source": [
        "df[['Tissue','Stool','Patient']].mode() "
      ],
      "execution_count": 66,
      "outputs": [
        {
          "output_type": "execute_result",
          "data": {
            "text/html": [
              "<div>\n",
              "<style scoped>\n",
              "    .dataframe tbody tr th:only-of-type {\n",
              "        vertical-align: middle;\n",
              "    }\n",
              "\n",
              "    .dataframe tbody tr th {\n",
              "        vertical-align: top;\n",
              "    }\n",
              "\n",
              "    .dataframe thead th {\n",
              "        text-align: right;\n",
              "    }\n",
              "</style>\n",
              "<table border=\"1\" class=\"dataframe\">\n",
              "  <thead>\n",
              "    <tr style=\"text-align: right;\">\n",
              "      <th></th>\n",
              "      <th>Tissue</th>\n",
              "      <th>Stool</th>\n",
              "      <th>Patient</th>\n",
              "    </tr>\n",
              "  </thead>\n",
              "  <tbody>\n",
              "    <tr>\n",
              "      <th>0</th>\n",
              "      <td>42.0</td>\n",
              "      <td>0.0</td>\n",
              "      <td>1</td>\n",
              "    </tr>\n",
              "    <tr>\n",
              "      <th>1</th>\n",
              "      <td>51.0</td>\n",
              "      <td>2.0</td>\n",
              "      <td>2</td>\n",
              "    </tr>\n",
              "    <tr>\n",
              "      <th>2</th>\n",
              "      <td>67.0</td>\n",
              "      <td>NaN</td>\n",
              "      <td>3</td>\n",
              "    </tr>\n",
              "    <tr>\n",
              "      <th>3</th>\n",
              "      <td>106.0</td>\n",
              "      <td>NaN</td>\n",
              "      <td>4</td>\n",
              "    </tr>\n",
              "    <tr>\n",
              "      <th>4</th>\n",
              "      <td>678.0</td>\n",
              "      <td>NaN</td>\n",
              "      <td>5</td>\n",
              "    </tr>\n",
              "    <tr>\n",
              "      <th>5</th>\n",
              "      <td>NaN</td>\n",
              "      <td>NaN</td>\n",
              "      <td>6</td>\n",
              "    </tr>\n",
              "    <tr>\n",
              "      <th>6</th>\n",
              "      <td>NaN</td>\n",
              "      <td>NaN</td>\n",
              "      <td>7</td>\n",
              "    </tr>\n",
              "    <tr>\n",
              "      <th>7</th>\n",
              "      <td>NaN</td>\n",
              "      <td>NaN</td>\n",
              "      <td>8</td>\n",
              "    </tr>\n",
              "    <tr>\n",
              "      <th>8</th>\n",
              "      <td>NaN</td>\n",
              "      <td>NaN</td>\n",
              "      <td>9</td>\n",
              "    </tr>\n",
              "    <tr>\n",
              "      <th>9</th>\n",
              "      <td>NaN</td>\n",
              "      <td>NaN</td>\n",
              "      <td>10</td>\n",
              "    </tr>\n",
              "    <tr>\n",
              "      <th>10</th>\n",
              "      <td>NaN</td>\n",
              "      <td>NaN</td>\n",
              "      <td>11</td>\n",
              "    </tr>\n",
              "    <tr>\n",
              "      <th>11</th>\n",
              "      <td>NaN</td>\n",
              "      <td>NaN</td>\n",
              "      <td>12</td>\n",
              "    </tr>\n",
              "    <tr>\n",
              "      <th>12</th>\n",
              "      <td>NaN</td>\n",
              "      <td>NaN</td>\n",
              "      <td>13</td>\n",
              "    </tr>\n",
              "    <tr>\n",
              "      <th>13</th>\n",
              "      <td>NaN</td>\n",
              "      <td>NaN</td>\n",
              "      <td>14</td>\n",
              "    </tr>\n",
              "    <tr>\n",
              "      <th>14</th>\n",
              "      <td>NaN</td>\n",
              "      <td>NaN</td>\n",
              "      <td>15</td>\n",
              "    </tr>\n",
              "  </tbody>\n",
              "</table>\n",
              "</div>"
            ],
            "text/plain": [
              "    Tissue  Stool  Patient\n",
              "0     42.0    0.0        1\n",
              "1     51.0    2.0        2\n",
              "2     67.0    NaN        3\n",
              "3    106.0    NaN        4\n",
              "4    678.0    NaN        5\n",
              "5      NaN    NaN        6\n",
              "6      NaN    NaN        7\n",
              "7      NaN    NaN        8\n",
              "8      NaN    NaN        9\n",
              "9      NaN    NaN       10\n",
              "10     NaN    NaN       11\n",
              "11     NaN    NaN       12\n",
              "12     NaN    NaN       13\n",
              "13     NaN    NaN       14\n",
              "14     NaN    NaN       15"
            ]
          },
          "metadata": {
            "tags": []
          },
          "execution_count": 66
        }
      ]
    },
    {
      "cell_type": "markdown",
      "metadata": {
        "id": "uKAtj0j43Rj0"
      },
      "source": [
        "NHÓM CÂU LỆNH TÍNH PHƯƠNG SAI - ĐỘ LỆCH CHUẨN\n",
        "\n",
        "Câu 6: Hãy tính phương sai (variance) của cột Tissue"
      ]
    },
    {
      "cell_type": "code",
      "metadata": {
        "id": "cTfhxBjV3Rj1",
        "outputId": "ce18408e-1a5f-4121-d59f-414a4be0fda9",
        "colab": {
          "base_uri": "https://localhost:8080/"
        }
      },
      "source": [
        "df['Tissue'].var() "
      ],
      "execution_count": 67,
      "outputs": [
        {
          "output_type": "execute_result",
          "data": {
            "text/plain": [
              "3306370.027027027"
            ]
          },
          "metadata": {
            "tags": []
          },
          "execution_count": 67
        }
      ]
    },
    {
      "cell_type": "markdown",
      "metadata": {
        "id": "Xv_gqT5z3Rj1"
      },
      "source": [
        "Câu 7: Hãy tính phương sai của 3 cột Patient, Tissue và Stool"
      ]
    },
    {
      "cell_type": "code",
      "metadata": {
        "id": "V5PtZqaQ3Rj1",
        "outputId": "7b11bc6d-361c-499e-8090-4e259814dfdd",
        "colab": {
          "base_uri": "https://localhost:8080/"
        }
      },
      "source": [
        "df.var()"
      ],
      "execution_count": 68,
      "outputs": [
        {
          "output_type": "execute_result",
          "data": {
            "text/plain": [
              "Patient    1.891892e+01\n",
              "Tissue     3.306370e+06\n",
              "Stool      2.108251e+06\n",
              "dtype: float64"
            ]
          },
          "metadata": {
            "tags": []
          },
          "execution_count": 68
        }
      ]
    },
    {
      "cell_type": "markdown",
      "metadata": {
        "id": "Sp1K6oFw3Rj1"
      },
      "source": [
        "Câu 8: Hãy tính độ lệch chuẩn (standard deviation) của 3 cột Patient, Tissue và Stool"
      ]
    },
    {
      "cell_type": "code",
      "metadata": {
        "id": "1pfyFqIy3Rj1",
        "outputId": "ad817124-e97c-4ffd-ed20-c8f82532d53d",
        "colab": {
          "base_uri": "https://localhost:8080/"
        }
      },
      "source": [
        "df.std()"
      ],
      "execution_count": 69,
      "outputs": [
        {
          "output_type": "execute_result",
          "data": {
            "text/plain": [
              "Patient       4.349588\n",
              "Tissue     1818.342659\n",
              "Stool      1451.981733\n",
              "dtype: float64"
            ]
          },
          "metadata": {
            "tags": []
          },
          "execution_count": 69
        }
      ]
    },
    {
      "cell_type": "markdown",
      "metadata": {
        "id": "ikyb6nW73Rj1"
      },
      "source": [
        "NHÓM CÂU LỆNH TÍNH PHÂN VỊ (PERCENTILE)"
      ]
    },
    {
      "cell_type": "markdown",
      "metadata": {
        "id": "Qlq1TvPS3Rj1"
      },
      "source": [
        "Câu 9: Tính Q1 Q2 và Q3 cho cột Tissue\n",
        "\n",
        "Tham khảo:\n",
        "\n",
        "1) https://www.geeksforgeeks.org/python-pandas-dataframe-quantile/\n",
        "\n",
        "2) https://stackoverflow.com/questions/45926230/how-to-calculate-1st-and-3rd-quartiles/45926291"
      ]
    },
    {
      "cell_type": "code",
      "metadata": {
        "id": "0irW18-O3Rj2",
        "outputId": "97425e88-852e-46d8-eee6-2305a536830f",
        "colab": {
          "base_uri": "https://localhost:8080/"
        }
      },
      "source": [
        "df.Tissue.quantile([0.25, 0.5, 0.75])"
      ],
      "execution_count": 70,
      "outputs": [
        {
          "output_type": "execute_result",
          "data": {
            "text/plain": [
              "0.25    108.0\n",
              "0.50    310.0\n",
              "0.75    835.0\n",
              "Name: Tissue, dtype: float64"
            ]
          },
          "metadata": {
            "tags": []
          },
          "execution_count": 70
        }
      ]
    },
    {
      "cell_type": "markdown",
      "metadata": {
        "id": "VrY1p67v3Rj2"
      },
      "source": [
        "Câu 10: Hãy tính z-score cho cột Tissue\n",
        "\n",
        "Gợi ý: sử dụng hàm zscore của thư viện scipy\n",
        "\n",
        "Tham khảo: https://stackoverflow.com/questions/24761998/pandas-compute-z-score-for-all-columns"
      ]
    },
    {
      "cell_type": "code",
      "metadata": {
        "id": "hFp9gEkb3Rj2",
        "outputId": "18f4c62a-aa29-4623-8a48-f26c94f8a469",
        "colab": {
          "base_uri": "https://localhost:8080/"
        }
      },
      "source": [
        "import scipy.stats as stats\r\n",
        "stats.zscore(df['Tissue'])"
      ],
      "execution_count": 71,
      "outputs": [
        {
          "output_type": "execute_result",
          "data": {
            "text/plain": [
              "array([-0.18990359, -0.46451635,  0.1101773 , -0.31392225, -0.07972629,\n",
              "       -0.15613064, -0.14228928, -0.44403112, -0.41358011, -0.45012133,\n",
              "       -0.33385382,  1.81598764, -0.48057234, -0.48666254, -0.38423641,\n",
              "        0.36707311,  0.82716022, -0.07529705,  1.90401875,  6.12840462,\n",
              "        0.73912911,  1.15049461, -0.32111977,  0.92792539,  0.12180405,\n",
              "        3.25659734, -0.27239815,  1.09346817,  0.3133686 ,  0.18381338,\n",
              "       -0.22478384,  0.34049768, -0.52597203, -0.39641681, -0.22533749,\n",
              "        0.07031416, -0.16443547, -0.39586316, -0.30506378, -0.23641059,\n",
              "       -0.42852879, -0.5165599 , -0.47946503, -0.51157701, -0.36818042,\n",
              "       -0.4761431 , -0.50271853, -0.5398134 , -0.49275274, -0.46064077,\n",
              "       -0.16443547,  2.13378547, -0.49884295, -0.44624574, -0.48112599,\n",
              "       -0.4993966 , -0.52320376, -0.51157701,  0.82937484, -0.48334061,\n",
              "       -0.47669676, -0.43185072, -0.5165599 , -0.36485849, -0.42797514,\n",
              "       -0.47558945, -0.24803734, -0.34215865, -0.48112599, -0.50271853,\n",
              "       -0.42742148, -0.32278073, -0.52431107, -0.53316954, -0.37094869])"
            ]
          },
          "metadata": {
            "tags": []
          },
          "execution_count": 71
        }
      ]
    },
    {
      "cell_type": "markdown",
      "metadata": {
        "id": "5vpCljp33Rj2"
      },
      "source": [
        "NHÓM CÂU LỆNH TỔNG HỢP\n",
        "\n",
        "Câu 11: (bổ sung) Hãy tính giá trị lớn nhất và nhỏ nhất của 3 cột Patient, Tissue và Stool"
      ]
    },
    {
      "cell_type": "code",
      "metadata": {
        "id": "NJKV7tcG3Rj2",
        "outputId": "bc756662-3fe6-4c44-e91d-2a4e3d6aedae",
        "colab": {
          "base_uri": "https://localhost:8080/"
        }
      },
      "source": [
        "print('Max, Min of Patient = ', max(df['Patient']),'and', min(df['Patient']))\r\n",
        "print('Max, Min of Tissue = ', max(df['Tissue']),'and', min(df['Tissue']))\r\n",
        "print('Max, Min of Stool = ', max(df['Stool']),'and', min(df['Stool']))"
      ],
      "execution_count": 73,
      "outputs": [
        {
          "output_type": "stream",
          "text": [
            "Max, Min of Patient =  15 and 1\n",
            "Max, Min of Tissue =  12044 and 0\n",
            "Max, Min of Stool =  8605 and 0\n"
          ],
          "name": "stdout"
        }
      ]
    },
    {
      "cell_type": "markdown",
      "metadata": {
        "id": "Wc41BTzL3Rj2"
      },
      "source": [
        "Câu 12: Hãy thực thi hàm describe đối với data frame chứa dữ liệu của microbiome.csv\n",
        "\n",
        "Tham khảo: https://pandas.pydata.org/docs/reference/api/pandas.DataFrame.describe.html"
      ]
    },
    {
      "cell_type": "code",
      "metadata": {
        "id": "tN7wU7Rl3Rj3",
        "outputId": "1dfe88d4-69a3-4492-9aeb-8f89ff9b0fdb",
        "colab": {
          "base_uri": "https://localhost:8080/",
          "height": 297
        }
      },
      "source": [
        "df.describe()"
      ],
      "execution_count": 74,
      "outputs": [
        {
          "output_type": "execute_result",
          "data": {
            "text/html": [
              "<div>\n",
              "<style scoped>\n",
              "    .dataframe tbody tr th:only-of-type {\n",
              "        vertical-align: middle;\n",
              "    }\n",
              "\n",
              "    .dataframe tbody tr th {\n",
              "        vertical-align: top;\n",
              "    }\n",
              "\n",
              "    .dataframe thead th {\n",
              "        text-align: right;\n",
              "    }\n",
              "</style>\n",
              "<table border=\"1\" class=\"dataframe\">\n",
              "  <thead>\n",
              "    <tr style=\"text-align: right;\">\n",
              "      <th></th>\n",
              "      <th>Patient</th>\n",
              "      <th>Tissue</th>\n",
              "      <th>Stool</th>\n",
              "    </tr>\n",
              "  </thead>\n",
              "  <tbody>\n",
              "    <tr>\n",
              "      <th>count</th>\n",
              "      <td>75.000000</td>\n",
              "      <td>75.000000</td>\n",
              "      <td>75.000000</td>\n",
              "    </tr>\n",
              "    <tr>\n",
              "      <th>mean</th>\n",
              "      <td>8.000000</td>\n",
              "      <td>975.000000</td>\n",
              "      <td>723.786667</td>\n",
              "    </tr>\n",
              "    <tr>\n",
              "      <th>std</th>\n",
              "      <td>4.349588</td>\n",
              "      <td>1818.342659</td>\n",
              "      <td>1451.981733</td>\n",
              "    </tr>\n",
              "    <tr>\n",
              "      <th>min</th>\n",
              "      <td>1.000000</td>\n",
              "      <td>0.000000</td>\n",
              "      <td>0.000000</td>\n",
              "    </tr>\n",
              "    <tr>\n",
              "      <th>25%</th>\n",
              "      <td>4.000000</td>\n",
              "      <td>108.000000</td>\n",
              "      <td>16.000000</td>\n",
              "    </tr>\n",
              "    <tr>\n",
              "      <th>50%</th>\n",
              "      <td>8.000000</td>\n",
              "      <td>310.000000</td>\n",
              "      <td>80.000000</td>\n",
              "    </tr>\n",
              "    <tr>\n",
              "      <th>75%</th>\n",
              "      <td>12.000000</td>\n",
              "      <td>835.000000</td>\n",
              "      <td>656.000000</td>\n",
              "    </tr>\n",
              "    <tr>\n",
              "      <th>max</th>\n",
              "      <td>15.000000</td>\n",
              "      <td>12044.000000</td>\n",
              "      <td>8605.000000</td>\n",
              "    </tr>\n",
              "  </tbody>\n",
              "</table>\n",
              "</div>"
            ],
            "text/plain": [
              "         Patient        Tissue        Stool\n",
              "count  75.000000     75.000000    75.000000\n",
              "mean    8.000000    975.000000   723.786667\n",
              "std     4.349588   1818.342659  1451.981733\n",
              "min     1.000000      0.000000     0.000000\n",
              "25%     4.000000    108.000000    16.000000\n",
              "50%     8.000000    310.000000    80.000000\n",
              "75%    12.000000    835.000000   656.000000\n",
              "max    15.000000  12044.000000  8605.000000"
            ]
          },
          "metadata": {
            "tags": []
          },
          "execution_count": 74
        }
      ]
    },
    {
      "cell_type": "markdown",
      "metadata": {
        "id": "cA8zRjPK3Rj3"
      },
      "source": [
        "NHÓM CÂU LỆNH ĐỒ HỌA\n",
        "\n",
        "Câu 13: Hãy vẽ biểu đồ box plot cho cột Tissue"
      ]
    },
    {
      "cell_type": "code",
      "metadata": {
        "id": "hj2-YVfb3Rj3",
        "outputId": "fe8b30b5-b079-42b9-a4ce-9d99339f6b64",
        "colab": {
          "base_uri": "https://localhost:8080/",
          "height": 268
        }
      },
      "source": [
        "import matplotlib.pyplot as plt\r\n",
        "import seaborn as sns\r\n",
        "plt.boxplot(df['Tissue'])\r\n",
        "plt.show()"
      ],
      "execution_count": 87,
      "outputs": [
        {
          "output_type": "display_data",
          "data": {
            "image/png": "[encoded data removed]",
            "text/plain": [
              "<Figure size 432x288 with 1 Axes>"
            ]
          },
          "metadata": {
            "tags": []
          }
        }
      ]
    },
    {
      "cell_type": "markdown",
      "metadata": {
        "id": "_MFwzVkK3Rj3"
      },
      "source": [
        "Câu 14: Hãy vẽ biểu đồ box plot cho cả 2 cột Tissue và Stool chung 1 hình (gồm có 2 box plot)"
      ]
    },
    {
      "cell_type": "code",
      "metadata": {
        "id": "hOYBOJbC3Rj3",
        "outputId": "0da6a8d4-f5bc-4404-d4af-2dd3ae5c1902",
        "colab": {
          "base_uri": "https://localhost:8080/",
          "height": 268
        }
      },
      "source": [
        "df[['Tissue','Stool']].boxplot()\r\n",
        "plt.show()"
      ],
      "execution_count": 89,
      "outputs": [
        {
          "output_type": "display_data",
          "data": {
            "image/png": "[encoded data removed]",
            "text/plain": [
              "<Figure size 432x288 with 1 Axes>"
            ]
          },
          "metadata": {
            "tags": []
          }
        }
      ]
    },
    {
      "cell_type": "markdown",
      "metadata": {
        "id": "GHoF4NrN3Rj3"
      },
      "source": [
        "Câu 15: Hãy vẽ lại câu 14 với các box plot nằm ngang"
      ]
    },
    {
      "cell_type": "code",
      "metadata": {
        "id": "dPA43uTB3Rj3",
        "outputId": "0a4a8cc6-8755-4708-be27-4db50e3094e0",
        "colab": {
          "base_uri": "https://localhost:8080/",
          "height": 268
        }
      },
      "source": [
        "df[['Tissue','Stool']].boxplot(vert=False)\r\n",
        "plt.show()"
      ],
      "execution_count": 90,
      "outputs": [
        {
          "output_type": "display_data",
          "data": {
            "image/png": "[encoded data removed]",
            "text/plain": [
              "<Figure size 432x288 with 1 Axes>"
            ]
          },
          "metadata": {
            "tags": []
          }
        }
      ]
    },
    {
      "cell_type": "markdown",
      "metadata": {
        "id": "z04YCBte3Rj3"
      },
      "source": [
        "Câu 16: Hãy sử dụng thư viện seaborn để vẽ biểu đồ box plot cho Tissue và Stool"
      ]
    },
    {
      "cell_type": "code",
      "metadata": {
        "id": "g6jBROff3Rj4",
        "outputId": "8467f1d7-3e63-442d-955a-e62bff4d3755",
        "colab": {
          "base_uri": "https://localhost:8080/",
          "height": 268
        }
      },
      "source": [
        "sns.boxplot(data = df[['Tissue','Stool']])\r\n",
        "plt.show()"
      ],
      "execution_count": 94,
      "outputs": [
        {
          "output_type": "display_data",
          "data": {
            "image/png": "[encoded data removed]",
            "text/plain": [
              "<Figure size 432x288 with 1 Axes>"
            ]
          },
          "metadata": {
            "tags": []
          }
        }
      ]
    }
  ]
}